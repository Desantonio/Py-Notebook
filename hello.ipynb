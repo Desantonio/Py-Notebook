{
 "cells": [
  {
   "cell_type": "code",
   "execution_count": 23,
   "metadata": {},
   "outputs": [
    {
     "name": "stdout",
     "output_type": "stream",
     "text": [
      "hello\n"
     ]
    }
   ],
   "source": [
    "print(\"hello\")"
   ]
  },
  {
   "cell_type": "code",
   "execution_count": 24,
   "metadata": {},
   "outputs": [
    {
     "data": {
      "text/latex": [
       "$\\displaystyle \\int \\frac{\\log{\\left(\\sin{\\left(\\cos{\\left(\\alpha \\right)} \\right)} \\right)} \\sin{\\left(\\alpha \\right)} \\sin{\\left(\\cos{\\left(\\alpha \\right)} \\right)} \\tan{\\left(\\alpha \\right)} + \\log{\\left(\\sin{\\left(\\cos{\\left(\\alpha \\right)} \\right)} \\right)} \\sin{\\left(\\cos{\\left(\\alpha \\right)} \\right)} \\cos{\\left(\\alpha \\right)} \\tan^{2}{\\left(\\alpha \\right)} + \\log{\\left(\\sin{\\left(\\cos{\\left(\\alpha \\right)} \\right)} \\right)} \\sin{\\left(\\cos{\\left(\\alpha \\right)} \\right)} \\cos{\\left(\\alpha \\right)} - \\sin{\\left(\\alpha \\right)} \\cos{\\left(\\alpha \\right)} \\cos{\\left(\\cos{\\left(\\alpha \\right)} \\right)} \\tan{\\left(\\alpha \\right)} + 2 \\sin{\\left(\\cos{\\left(\\alpha \\right)} \\right)} \\cos^{2}{\\left(\\alpha \\right)} \\cos{\\left(2 \\alpha \\right)}}{\\sin{\\left(\\cos{\\left(\\alpha \\right)} \\right)} \\cos^{2}{\\left(\\alpha \\right)}}\\, d\\alpha$"
      ],
      "text/plain": [
       "Integral((log(sin(cos(alpha)))*sin(alpha)*sin(cos(alpha))*tan(alpha) + log(sin(cos(alpha)))*sin(cos(alpha))*cos(alpha)*tan(alpha)**2 + log(sin(cos(alpha)))*sin(cos(alpha))*cos(alpha) - sin(alpha)*cos(alpha)*cos(cos(alpha))*tan(alpha) + 2*sin(cos(alpha))*cos(alpha)**2*cos(2*alpha))/(sin(cos(alpha))*cos(alpha)**2), alpha)"
      ]
     },
     "execution_count": 24,
     "metadata": {},
     "output_type": "execute_result"
    }
   ],
   "source": [
    "from sympy import diff, symbols, sin, cos, tan, log, integrate\n",
    "alpha = symbols('alpha')\n",
    "function = diff(sin(2*alpha)+tan(alpha)/cos(alpha)*log(sin(cos(alpha))), alpha)\n",
    "integrate(function, alpha)"
   ]
  },
  {
   "cell_type": "code",
   "execution_count": 25,
   "metadata": {},
   "outputs": [
    {
     "data": {
      "text/latex": [
       "$\\displaystyle \\int \\frac{\\sin{\\left(\\pi \\right)} \\cos{\\left(\\pi \\right)}}{\\tan{\\left(5 \\pi \\right)}}\\, d\\pi$"
      ],
      "text/plain": [
       "Integral(sin(pi)*cos(pi)/tan(5*pi), pi)"
      ]
     },
     "execution_count": 25,
     "metadata": {},
     "output_type": "execute_result"
    }
   ],
   "source": [
    "from sympy import sin, cos, tan, integrate, diff, symbols\n",
    "pi = symbols('pi')\n",
    "function = sin(pi)*cos(pi)/tan(5*pi)\n",
    "diff(function, pi)\n",
    "integrate(function, pi)"
   ]
  },
  {
   "cell_type": "code",
   "execution_count": 27,
   "metadata": {},
   "outputs": [
    {
     "data": {
      "text/latex": [
       "$\\displaystyle \\cos{\\left(\\log{\\left(10 \\right)} \\right)} \\cos{\\left(\\left[\\begin{matrix}1 & 2\\\\2 & 4\\end{matrix}\\right] \\right)} \\log{\\left(\\left[\\begin{matrix}1 & 6\\\\9 & 8\\end{matrix}\\right] \\right)}$"
      ],
      "text/plain": [
       "cos(log(10))*cos(Matrix([\n",
       "[1, 2],\n",
       "[2, 4]]))*log(Matrix([\n",
       "[1, 6],\n",
       "[9, 8]]))"
      ]
     },
     "execution_count": 27,
     "metadata": {},
     "output_type": "execute_result"
    }
   ],
   "source": [
    "from sympy import Matrix, cos, log\n",
    "A = cos(Matrix([[1,2],[2,4]]))\n",
    "B = log(Matrix([[1,6],[9,8]]))\n",
    "A*B*cos(log(10))"
   ]
  },
  {
   "cell_type": "code",
   "execution_count": 28,
   "metadata": {},
   "outputs": [
    {
     "data": {
      "text/plain": [
       "78921"
      ]
     },
     "execution_count": 28,
     "metadata": {},
     "output_type": "execute_result"
    }
   ],
   "source": [
    "a = int(input(\"Enter: \"))\n",
    "a"
   ]
  },
  {
   "cell_type": "code",
   "execution_count": 29,
   "metadata": {},
   "outputs": [
    {
     "data": {
      "text/latex": [
       "$\\displaystyle \\beta^{2}$"
      ],
      "text/plain": [
       "beta**2"
      ]
     },
     "execution_count": 29,
     "metadata": {},
     "output_type": "execute_result"
    }
   ],
   "source": [
    "from sympy import integrate, symbols\n",
    "beta = symbols('beta')\n",
    "function = beta**2\n",
    "diff(integrate(function, beta), beta)"
   ]
  },
  {
   "cell_type": "code",
   "execution_count": 30,
   "metadata": {},
   "outputs": [
    {
     "name": "stdout",
     "output_type": "stream",
     "text": [
      "      1 |          .                .                .          \n",
      "        | ..               ..               ..               .. \n",
      "        |           .                               .           \n",
      "        |         .                . .                .         \n",
      "        |                                                       \n",
      "        |   .                .             .                .   \n",
      "        |.                .                   .                .\n",
      "        |                                                       \n",
      "        |                                                       \n",
      "        |        .   .            .   .            .   .        \n",
      "      0 |-------------------------------------------------------\n",
      "        |                                                       \n",
      "        |    .                                             .    \n",
      "        |                .    .           .    .                \n",
      "        |                                                       \n",
      "        |                                                       \n",
      "        |       .     .          .     .          .     .       \n",
      "        |                                                       \n",
      "        |     .                .         .                .     \n",
      "        |               .                       .               \n",
      "     -1 |_______________________________________________________\n",
      "         -10                        0                          10\n"
     ]
    }
   ],
   "source": [
    "from sympy import diff, symbols, sin, cos, plot\n",
    "x = symbols('x')\n",
    "function = sin(x)*cos(x)\n",
    "a = diff(function, x)\n",
    "p1 = plot(a, show=False)\n",
    "p1.show()"
   ]
  },
  {
   "cell_type": "code",
   "execution_count": 31,
   "metadata": {},
   "outputs": [
    {
     "data": {
      "text/latex": [
       "$\\displaystyle - \\frac{794 \\sin{\\left(\\gamma \\right)} \\sin{\\left(2 \\gamma \\right)}}{156009 \\sec{\\left(20 \\gamma \\right)}} + \\frac{7900 \\sin{\\left(\\gamma \\right)} \\cos{\\left(2 \\gamma \\right)} \\tan{\\left(20 \\gamma \\right)}}{156009 \\sec{\\left(20 \\gamma \\right)}} + \\frac{80 \\sin{\\left(2 \\gamma \\right)} \\cos{\\left(\\gamma \\right)} \\tan{\\left(20 \\gamma \\right)}}{156009 \\sec{\\left(20 \\gamma \\right)}} + \\frac{403 \\cos{\\left(\\gamma \\right)} \\cos{\\left(2 \\gamma \\right)}}{156009 \\sec{\\left(20 \\gamma \\right)}}$"
      ],
      "text/plain": [
       "-794*sin(gamma)*sin(2*gamma)/(156009*sec(20*gamma)) + 7900*sin(gamma)*cos(2*gamma)*tan(20*gamma)/(156009*sec(20*gamma)) + 80*sin(2*gamma)*cos(gamma)*tan(20*gamma)/(156009*sec(20*gamma)) + 403*cos(gamma)*cos(2*gamma)/(156009*sec(20*gamma))"
      ]
     },
     "execution_count": 31,
     "metadata": {},
     "output_type": "execute_result"
    }
   ],
   "source": [
    "from sympy import symbols, Matrix, sin, cos, sec, plot\n",
    "from sympy import *\n",
    "gamma = symbols('gamma')\n",
    "function = sin(gamma)*cos(2*gamma)/sec(20*gamma)\n",
    "diff(function, gamma)\n",
    "integrate(function, gamma)"
   ]
  },
  {
   "cell_type": "code",
   "execution_count": 32,
   "metadata": {},
   "outputs": [
    {
     "data": {
      "text/latex": [
       "$\\displaystyle \\left[\\begin{matrix}\\left(- \\frac{2 \\sin{\\left(t \\right)} \\sin{\\left(2 t \\right)}}{\\sec{\\left(2 t \\right)}} - \\frac{2 \\sin{\\left(t \\right)} \\cos{\\left(2 t \\right)} \\tan{\\left(2 t \\right)}}{\\sec{\\left(2 t \\right)}} + \\frac{\\cos{\\left(t \\right)} \\cos{\\left(2 t \\right)}}{\\sec{\\left(2 t \\right)}}\\right) \\left(\\frac{2 \\sin{\\left(t \\right)} \\sin{\\left(2 t \\right)}}{15 \\sec{\\left(2 t \\right)}} + \\frac{2 \\sin{\\left(t \\right)} \\cos{\\left(2 t \\right)} \\tan{\\left(2 t \\right)}}{15 \\sec{\\left(2 t \\right)}} - \\frac{8 \\sin{\\left(2 t \\right)} \\cos{\\left(t \\right)} \\tan{\\left(2 t \\right)}}{15 \\sec{\\left(2 t \\right)}} - \\frac{7 \\cos{\\left(t \\right)} \\cos{\\left(2 t \\right)}}{15 \\sec{\\left(2 t \\right)}}\\right) \\sin{\\left(t \\right)} & \\left(- \\frac{2 \\sin{\\left(t \\right)} \\sin{\\left(2 t \\right)}}{\\sec{\\left(2 t \\right)}} - \\frac{2 \\sin{\\left(t \\right)} \\cos{\\left(2 t \\right)} \\tan{\\left(2 t \\right)}}{\\sec{\\left(2 t \\right)}} + \\frac{\\cos{\\left(t \\right)} \\cos{\\left(2 t \\right)}}{\\sec{\\left(2 t \\right)}}\\right) \\left(\\frac{2 \\sin{\\left(t \\right)} \\sin{\\left(2 t \\right)}}{5 \\sec{\\left(2 t \\right)}} + \\frac{2 \\sin{\\left(t \\right)} \\cos{\\left(2 t \\right)} \\tan{\\left(2 t \\right)}}{5 \\sec{\\left(2 t \\right)}} - \\frac{8 \\sin{\\left(2 t \\right)} \\cos{\\left(t \\right)} \\tan{\\left(2 t \\right)}}{5 \\sec{\\left(2 t \\right)}} - \\frac{7 \\cos{\\left(t \\right)} \\cos{\\left(2 t \\right)}}{5 \\sec{\\left(2 t \\right)}}\\right)\\\\\\left(- \\frac{2 \\sin{\\left(t \\right)} \\sin{\\left(2 t \\right)}}{\\sec{\\left(2 t \\right)}} - \\frac{2 \\sin{\\left(t \\right)} \\cos{\\left(2 t \\right)} \\tan{\\left(2 t \\right)}}{\\sec{\\left(2 t \\right)}} + \\frac{\\cos{\\left(t \\right)} \\cos{\\left(2 t \\right)}}{\\sec{\\left(2 t \\right)}}\\right) \\left(\\frac{2 \\sin{\\left(t \\right)} \\sin{\\left(2 t \\right)}}{15 \\sec{\\left(2 t \\right)}} + \\frac{2 \\sin{\\left(t \\right)} \\cos{\\left(2 t \\right)} \\tan{\\left(2 t \\right)}}{15 \\sec{\\left(2 t \\right)}} - \\frac{8 \\sin{\\left(2 t \\right)} \\cos{\\left(t \\right)} \\tan{\\left(2 t \\right)}}{15 \\sec{\\left(2 t \\right)}} - \\frac{7 \\cos{\\left(t \\right)} \\cos{\\left(2 t \\right)}}{15 \\sec{\\left(2 t \\right)}}\\right) \\cos{\\left(3 t \\right)} & \\left(- \\frac{2 \\sin{\\left(t \\right)} \\sin{\\left(2 t \\right)}}{\\sec{\\left(2 t \\right)}} - \\frac{2 \\sin{\\left(t \\right)} \\cos{\\left(2 t \\right)} \\tan{\\left(2 t \\right)}}{\\sec{\\left(2 t \\right)}} + \\frac{\\cos{\\left(t \\right)} \\cos{\\left(2 t \\right)}}{\\sec{\\left(2 t \\right)}}\\right) \\left(\\frac{104 \\sin{\\left(t \\right)} \\sin{\\left(2 t \\right)}}{15 \\sec{\\left(2 t \\right)}} + \\frac{104 \\sin{\\left(t \\right)} \\cos{\\left(2 t \\right)} \\tan{\\left(2 t \\right)}}{15 \\sec{\\left(2 t \\right)}} - \\frac{416 \\sin{\\left(2 t \\right)} \\cos{\\left(t \\right)} \\tan{\\left(2 t \\right)}}{15 \\sec{\\left(2 t \\right)}} - \\frac{364 \\cos{\\left(t \\right)} \\cos{\\left(2 t \\right)}}{15 \\sec{\\left(2 t \\right)}}\\right)\\end{matrix}\\right]$"
      ],
      "text/plain": [
       "Matrix([\n",
       "[  (-2*sin(t)*sin(2*t)/sec(2*t) - 2*sin(t)*cos(2*t)*tan(2*t)/sec(2*t) + cos(t)*cos(2*t)/sec(2*t))*(2*sin(t)*sin(2*t)/(15*sec(2*t)) + 2*sin(t)*cos(2*t)*tan(2*t)/(15*sec(2*t)) - 8*sin(2*t)*cos(t)*tan(2*t)/(15*sec(2*t)) - 7*cos(t)*cos(2*t)/(15*sec(2*t)))*sin(t),             (-2*sin(t)*sin(2*t)/sec(2*t) - 2*sin(t)*cos(2*t)*tan(2*t)/sec(2*t) + cos(t)*cos(2*t)/sec(2*t))*(2*sin(t)*sin(2*t)/(5*sec(2*t)) + 2*sin(t)*cos(2*t)*tan(2*t)/(5*sec(2*t)) - 8*sin(2*t)*cos(t)*tan(2*t)/(5*sec(2*t)) - 7*cos(t)*cos(2*t)/(5*sec(2*t)))],\n",
       "[(-2*sin(t)*sin(2*t)/sec(2*t) - 2*sin(t)*cos(2*t)*tan(2*t)/sec(2*t) + cos(t)*cos(2*t)/sec(2*t))*(2*sin(t)*sin(2*t)/(15*sec(2*t)) + 2*sin(t)*cos(2*t)*tan(2*t)/(15*sec(2*t)) - 8*sin(2*t)*cos(t)*tan(2*t)/(15*sec(2*t)) - 7*cos(t)*cos(2*t)/(15*sec(2*t)))*cos(3*t), (-2*sin(t)*sin(2*t)/sec(2*t) - 2*sin(t)*cos(2*t)*tan(2*t)/sec(2*t) + cos(t)*cos(2*t)/sec(2*t))*(104*sin(t)*sin(2*t)/(15*sec(2*t)) + 104*sin(t)*cos(2*t)*tan(2*t)/(15*sec(2*t)) - 416*sin(2*t)*cos(t)*tan(2*t)/(15*sec(2*t)) - 364*cos(t)*cos(2*t)/(15*sec(2*t)))]])"
      ]
     },
     "execution_count": 32,
     "metadata": {},
     "output_type": "execute_result"
    }
   ],
   "source": [
    "from sympy import symbols, plot, sin, cos, sec, Matrix\n",
    "from sympy import *\n",
    "t = symbols('t')\n",
    "function = sin(t)*cos(2*t)/sec(2*t)\n",
    "differentiation = diff(function, t)\n",
    "integration = integrate(function, t)\n",
    "integration_plot = plot(integration, show=False)\n",
    "A = Matrix([[sin(t),3],[cos(3*t),52]])\n",
    "B = A*integration*differentiation\n",
    "B"
   ]
  },
  {
   "cell_type": "code",
   "execution_count": 9,
   "metadata": {},
   "outputs": [
    {
     "name": "stdout",
     "output_type": "stream",
     "text": [
      "[('The sin of 1 is: ', 0.8414709848078965), ('The sin of 2 is: ', 0.9092974268256817), ('The sin of 3 is: ', 0.1411200080598672), ('The sin of 4 is: ', -0.7568024953079283), ('The sin of 5 is: ', -0.9589242746631385), ('The sin of 6 is: ', -0.27941549819892586), ('The sin of 7 is: ', 0.6569865987187891), ('The sin of 8 is: ', 0.9893582466233818), ('The sin of 9 is: ', 0.4121184852417566), ('The sin of 10 is: ', -0.5440211108893698)]\n"
     ]
    }
   ],
   "source": [
    "import math\n",
    "tau = symbols('tau')\n",
    "def number(num):\n",
    "    sin_of_value = math.sin(num)\n",
    "    return f\"The sin of {num} is: \", sin_of_value\n",
    "def sin_value(start, end):\n",
    "    results = []\n",
    "    for i in range(start, end+1):\n",
    "        result = number(i)\n",
    "        results.append(result)\n",
    "    return results\n",
    "start_range = int(input(\"Enter the starting range: \"))\n",
    "end_range = int(input(\"Enter the ending range: \"))\n",
    "final_result = sin_value(start_range, end_range)\n",
    "print(final_result)"
   ]
  },
  {
   "cell_type": "code",
   "execution_count": 13,
   "metadata": {},
   "outputs": [
    {
     "name": "stdout",
     "output_type": "stream",
     "text": [
      "[0.2919265817264289, 0.17317818956819406, 0.9800851433251829, 0.42724998309569334, 0.08046423546177378, 0.921926979366246, 0.5683686091039166, 0.02117025983830768, 0.8301583541220399, 0.7040410309066958]\n"
     ]
    }
   ],
   "source": [
    "import math\n",
    "def hi(start, end):\n",
    "    result = []\n",
    "    for g in range(start, end+1):\n",
    "        result.append(math.sin(g)*math.cos(g)/math.tan(g))\n",
    "    return result\n",
    "start_range = int(input(\"Enter the starting value: \"))\n",
    "end_range = int(input(\"Enter the ending value: \"))\n",
    "final = hi(start_range, end_range)\n",
    "print(final)"
   ]
  },
  {
   "cell_type": "code",
   "execution_count": 20,
   "metadata": {},
   "outputs": [
    {
     "data": {
      "text/plain": [
       "('The differentiation of 2*tau*sin(tau)*cos(tau)/tan(tau) is: ',\n",
       " 2*tau*(-tan(tau)**2 - 1)*sin(tau)*cos(tau)/tan(tau)**2 - 2*tau*sin(tau)**2/tan(tau) + 2*tau*cos(tau)**2/tan(tau) + 2*sin(tau)*cos(tau)/tan(tau))"
      ]
     },
     "execution_count": 20,
     "metadata": {},
     "output_type": "execute_result"
    }
   ],
   "source": [
    "import math\n",
    "from sympy import symbols, sin, cos, tan, diff \n",
    "from sympy import *\n",
    "tau = symbols('tau')\n",
    "def diff_write(diff_w):\n",
    "    diff_value = diff(diff_w, tau)\n",
    "    return f\"The differentiation of {diff_w} is: \", diff_value\n",
    "result = 2*tau*cos(tau)*sin(tau)/tan(tau)\n",
    "final = diff_write(result)\n",
    "final"
   ]
  },
  {
   "cell_type": "code",
   "execution_count": 21,
   "metadata": {},
   "outputs": [
    {
     "data": {
      "text/latex": [
       "$\\displaystyle \\frac{2 \\tau \\left(- \\tan^{2}{\\left(\\tau \\right)} - 1\\right) \\sin{\\left(\\tau \\right)} \\cos{\\left(\\tau \\right)}}{\\tan^{2}{\\left(\\tau \\right)}} - \\frac{2 \\tau \\sin^{2}{\\left(\\tau \\right)}}{\\tan{\\left(\\tau \\right)}} + \\frac{2 \\tau \\cos^{2}{\\left(\\tau \\right)}}{\\tan{\\left(\\tau \\right)}} + \\frac{2 \\sin{\\left(\\tau \\right)} \\cos{\\left(\\tau \\right)}}{\\tan{\\left(\\tau \\right)}}$"
      ],
      "text/plain": [
       "2*tau*(-tan(tau)**2 - 1)*sin(tau)*cos(tau)/tan(tau)**2 - 2*tau*sin(tau)**2/tan(tau) + 2*tau*cos(tau)**2/tan(tau) + 2*sin(tau)*cos(tau)/tan(tau)"
      ]
     },
     "execution_count": 21,
     "metadata": {},
     "output_type": "execute_result"
    }
   ],
   "source": [
    "from sympy import symbols, sin, cos, tan, diff \n",
    "from sympy import *\n",
    "tau = symbols('tau')\n",
    "result = 2*tau*cos(tau)*sin(tau)/tan(tau)\n",
    "diff(result, tau)"
   ]
  },
  {
   "cell_type": "code",
   "execution_count": 30,
   "metadata": {},
   "outputs": [
    {
     "name": "stdout",
     "output_type": "stream",
     "text": [
      "9 is Odd\n"
     ]
    }
   ],
   "source": [
    "import math\n",
    "def check_even_or_odd(number):\n",
    "    if number % 2 == 0:\n",
    "        print(f\"{number} is Even\")\n",
    "    else:\n",
    "        print(f\"{number} is Odd\")\n",
    "input_number = int(input(\"Enter the number please Sir/Maam: \"))\n",
    "result = check_even_or_odd(input_number)\n",
    "result"
   ]
  },
  {
   "cell_type": "code",
   "execution_count": 31,
   "metadata": {},
   "outputs": [
    {
     "name": "stdout",
     "output_type": "stream",
     "text": [
      "Hello World!\n"
     ]
    }
   ],
   "source": [
    "print(\"Hello World!\")"
   ]
  },
  {
   "cell_type": "code",
   "execution_count": 32,
   "metadata": {},
   "outputs": [
    {
     "name": "stdout",
     "output_type": "stream",
     "text": [
      "Hi, Boy\n"
     ]
    }
   ],
   "source": [
    "print(\"Hi, Boy\")"
   ]
  },
  {
   "cell_type": "code",
   "execution_count": 39,
   "metadata": {},
   "outputs": [
    {
     "data": {
      "text/latex": [
       "$\\displaystyle \\left[\\begin{matrix}\\left(\\frac{6 \\sigma \\left(\\tan^{2}{\\left(\\sec{\\left(\\csc{\\left(2 \\sigma \\right)} \\right)} \\right)} + 1\\right) \\sin{\\left(\\sigma \\right)} \\tan{\\left(\\csc{\\left(2 \\sigma \\right)} \\right)} \\cot{\\left(2 \\sigma \\right)} \\csc{\\left(2 \\sigma \\right)} \\sec{\\left(\\csc{\\left(2 \\sigma \\right)} \\right)}}{\\cos{\\left(\\sigma \\right)} \\tan^{2}{\\left(\\sec{\\left(\\csc{\\left(2 \\sigma \\right)} \\right)} \\right)}} + \\frac{3 \\sigma \\sin^{2}{\\left(\\sigma \\right)}}{\\cos^{2}{\\left(\\sigma \\right)} \\tan{\\left(\\sec{\\left(\\csc{\\left(2 \\sigma \\right)} \\right)} \\right)}} + \\frac{3 \\sigma}{\\tan{\\left(\\sec{\\left(\\csc{\\left(2 \\sigma \\right)} \\right)} \\right)}} + \\frac{3 \\sin{\\left(\\sigma \\right)}}{\\cos{\\left(\\sigma \\right)} \\tan{\\left(\\sec{\\left(\\csc{\\left(2 \\sigma \\right)} \\right)} \\right)}}\\right) \\sin{\\left(\\sigma \\right)} & \\left(\\frac{6 \\sigma \\left(\\tan^{2}{\\left(\\sec{\\left(\\csc{\\left(2 \\sigma \\right)} \\right)} \\right)} + 1\\right) \\sin{\\left(\\sigma \\right)} \\tan{\\left(\\csc{\\left(2 \\sigma \\right)} \\right)} \\cot{\\left(2 \\sigma \\right)} \\csc{\\left(2 \\sigma \\right)} \\sec{\\left(\\csc{\\left(2 \\sigma \\right)} \\right)}}{\\cos{\\left(\\sigma \\right)} \\tan^{2}{\\left(\\sec{\\left(\\csc{\\left(2 \\sigma \\right)} \\right)} \\right)}} + \\frac{3 \\sigma \\sin^{2}{\\left(\\sigma \\right)}}{\\cos^{2}{\\left(\\sigma \\right)} \\tan{\\left(\\sec{\\left(\\csc{\\left(2 \\sigma \\right)} \\right)} \\right)}} + \\frac{3 \\sigma}{\\tan{\\left(\\sec{\\left(\\csc{\\left(2 \\sigma \\right)} \\right)} \\right)}} + \\frac{3 \\sin{\\left(\\sigma \\right)}}{\\cos{\\left(\\sigma \\right)} \\tan{\\left(\\sec{\\left(\\csc{\\left(2 \\sigma \\right)} \\right)} \\right)}}\\right) \\cos{\\left(2 \\sigma \\right)}\\\\\\frac{12 \\sigma \\left(\\tan^{2}{\\left(\\sec{\\left(\\csc{\\left(2 \\sigma \\right)} \\right)} \\right)} + 1\\right) \\sin{\\left(\\sigma \\right)} \\tan{\\left(\\csc{\\left(2 \\sigma \\right)} \\right)} \\cot{\\left(2 \\sigma \\right)} \\csc{\\left(2 \\sigma \\right)} \\sec{\\left(\\csc{\\left(2 \\sigma \\right)} \\right)}}{\\cos{\\left(\\sigma \\right)} \\tan^{2}{\\left(\\sec{\\left(\\csc{\\left(2 \\sigma \\right)} \\right)} \\right)}} + \\frac{6 \\sigma \\sin^{2}{\\left(\\sigma \\right)}}{\\cos^{2}{\\left(\\sigma \\right)} \\tan{\\left(\\sec{\\left(\\csc{\\left(2 \\sigma \\right)} \\right)} \\right)}} + \\frac{6 \\sigma}{\\tan{\\left(\\sec{\\left(\\csc{\\left(2 \\sigma \\right)} \\right)} \\right)}} + \\frac{6 \\sin{\\left(\\sigma \\right)}}{\\cos{\\left(\\sigma \\right)} \\tan{\\left(\\sec{\\left(\\csc{\\left(2 \\sigma \\right)} \\right)} \\right)}} & \\frac{204 \\sigma \\left(\\tan^{2}{\\left(\\sec{\\left(\\csc{\\left(2 \\sigma \\right)} \\right)} \\right)} + 1\\right) \\sin{\\left(\\sigma \\right)} \\tan{\\left(\\csc{\\left(2 \\sigma \\right)} \\right)} \\cot{\\left(2 \\sigma \\right)} \\csc{\\left(2 \\sigma \\right)} \\sec{\\left(\\csc{\\left(2 \\sigma \\right)} \\right)}}{\\cos{\\left(\\sigma \\right)} \\tan^{2}{\\left(\\sec{\\left(\\csc{\\left(2 \\sigma \\right)} \\right)} \\right)}} + \\frac{102 \\sigma \\sin^{2}{\\left(\\sigma \\right)}}{\\cos^{2}{\\left(\\sigma \\right)} \\tan{\\left(\\sec{\\left(\\csc{\\left(2 \\sigma \\right)} \\right)} \\right)}} + \\frac{102 \\sigma}{\\tan{\\left(\\sec{\\left(\\csc{\\left(2 \\sigma \\right)} \\right)} \\right)}} + \\frac{102 \\sin{\\left(\\sigma \\right)}}{\\cos{\\left(\\sigma \\right)} \\tan{\\left(\\sec{\\left(\\csc{\\left(2 \\sigma \\right)} \\right)} \\right)}}\\end{matrix}\\right]$"
      ],
      "text/plain": [
       "Matrix([\n",
       "[(6*sigma*(tan(sec(csc(2*sigma)))**2 + 1)*sin(sigma)*tan(csc(2*sigma))*cot(2*sigma)*csc(2*sigma)*sec(csc(2*sigma))/(cos(sigma)*tan(sec(csc(2*sigma)))**2) + 3*sigma*sin(sigma)**2/(cos(sigma)**2*tan(sec(csc(2*sigma)))) + 3*sigma/tan(sec(csc(2*sigma))) + 3*sin(sigma)/(cos(sigma)*tan(sec(csc(2*sigma)))))*sin(sigma), (6*sigma*(tan(sec(csc(2*sigma)))**2 + 1)*sin(sigma)*tan(csc(2*sigma))*cot(2*sigma)*csc(2*sigma)*sec(csc(2*sigma))/(cos(sigma)*tan(sec(csc(2*sigma)))**2) + 3*sigma*sin(sigma)**2/(cos(sigma)**2*tan(sec(csc(2*sigma)))) + 3*sigma/tan(sec(csc(2*sigma))) + 3*sin(sigma)/(cos(sigma)*tan(sec(csc(2*sigma)))))*cos(2*sigma)],\n",
       "[            12*sigma*(tan(sec(csc(2*sigma)))**2 + 1)*sin(sigma)*tan(csc(2*sigma))*cot(2*sigma)*csc(2*sigma)*sec(csc(2*sigma))/(cos(sigma)*tan(sec(csc(2*sigma)))**2) + 6*sigma*sin(sigma)**2/(cos(sigma)**2*tan(sec(csc(2*sigma)))) + 6*sigma/tan(sec(csc(2*sigma))) + 6*sin(sigma)/(cos(sigma)*tan(sec(csc(2*sigma)))),        204*sigma*(tan(sec(csc(2*sigma)))**2 + 1)*sin(sigma)*tan(csc(2*sigma))*cot(2*sigma)*csc(2*sigma)*sec(csc(2*sigma))/(cos(sigma)*tan(sec(csc(2*sigma)))**2) + 102*sigma*sin(sigma)**2/(cos(sigma)**2*tan(sec(csc(2*sigma)))) + 102*sigma/tan(sec(csc(2*sigma))) + 102*sin(sigma)/(cos(sigma)*tan(sec(csc(2*sigma))))]])"
      ]
     },
     "execution_count": 39,
     "metadata": {},
     "output_type": "execute_result"
    }
   ],
   "source": [
    "from sympy import sin, cos, tan, sec, csc, symbols, Matrix\n",
    "from sympy import *\n",
    "sigma = symbols('sigma')\n",
    "sigma\n",
    "function = sin(sigma)*3*sigma/(cos(sigma)*tan(sec(csc(2*sigma))))\n",
    "diff(function, sigma)\n",
    "A = Matrix([[sin(sigma), cos(2*sigma)],[2, 34]])\n",
    "A*diff(function, sigma)"
   ]
  }
 ],
 "metadata": {
  "kernelspec": {
   "display_name": "Python 3",
   "language": "python",
   "name": "python3"
  },
  "language_info": {
   "codemirror_mode": {
    "name": "ipython",
    "version": 3
   },
   "file_extension": ".py",
   "mimetype": "text/x-python",
   "name": "python",
   "nbconvert_exporter": "python",
   "pygments_lexer": "ipython3",
   "version": "3.11.4"
  },
  "orig_nbformat": 4
 },
 "nbformat": 4,
 "nbformat_minor": 2
}
