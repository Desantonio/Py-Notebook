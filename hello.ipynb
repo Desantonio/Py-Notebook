{
 "cells": [
  {
   "cell_type": "code",
   "execution_count": 23,
   "metadata": {},
   "outputs": [
    {
     "name": "stdout",
     "output_type": "stream",
     "text": [
      "hello\n"
     ]
    }
   ],
   "source": [
    "print(\"hello\")"
   ]
  },
  {
   "cell_type": "code",
   "execution_count": 24,
   "metadata": {},
   "outputs": [
    {
     "data": {
      "text/latex": [
       "$\\displaystyle \\int \\frac{\\log{\\left(\\sin{\\left(\\cos{\\left(\\alpha \\right)} \\right)} \\right)} \\sin{\\left(\\alpha \\right)} \\sin{\\left(\\cos{\\left(\\alpha \\right)} \\right)} \\tan{\\left(\\alpha \\right)} + \\log{\\left(\\sin{\\left(\\cos{\\left(\\alpha \\right)} \\right)} \\right)} \\sin{\\left(\\cos{\\left(\\alpha \\right)} \\right)} \\cos{\\left(\\alpha \\right)} \\tan^{2}{\\left(\\alpha \\right)} + \\log{\\left(\\sin{\\left(\\cos{\\left(\\alpha \\right)} \\right)} \\right)} \\sin{\\left(\\cos{\\left(\\alpha \\right)} \\right)} \\cos{\\left(\\alpha \\right)} - \\sin{\\left(\\alpha \\right)} \\cos{\\left(\\alpha \\right)} \\cos{\\left(\\cos{\\left(\\alpha \\right)} \\right)} \\tan{\\left(\\alpha \\right)} + 2 \\sin{\\left(\\cos{\\left(\\alpha \\right)} \\right)} \\cos^{2}{\\left(\\alpha \\right)} \\cos{\\left(2 \\alpha \\right)}}{\\sin{\\left(\\cos{\\left(\\alpha \\right)} \\right)} \\cos^{2}{\\left(\\alpha \\right)}}\\, d\\alpha$"
      ],
      "text/plain": [
       "Integral((log(sin(cos(alpha)))*sin(alpha)*sin(cos(alpha))*tan(alpha) + log(sin(cos(alpha)))*sin(cos(alpha))*cos(alpha)*tan(alpha)**2 + log(sin(cos(alpha)))*sin(cos(alpha))*cos(alpha) - sin(alpha)*cos(alpha)*cos(cos(alpha))*tan(alpha) + 2*sin(cos(alpha))*cos(alpha)**2*cos(2*alpha))/(sin(cos(alpha))*cos(alpha)**2), alpha)"
      ]
     },
     "execution_count": 24,
     "metadata": {},
     "output_type": "execute_result"
    }
   ],
   "source": [
    "from sympy import diff, symbols, sin, cos, tan, log, integrate\n",
    "alpha = symbols('alpha')\n",
    "function = diff(sin(2*alpha)+tan(alpha)/cos(alpha)*log(sin(cos(alpha))), alpha)\n",
    "integrate(function, alpha)"
   ]
  },
  {
   "cell_type": "code",
   "execution_count": 25,
   "metadata": {},
   "outputs": [
    {
     "data": {
      "text/latex": [
       "$\\displaystyle \\int \\frac{\\sin{\\left(\\pi \\right)} \\cos{\\left(\\pi \\right)}}{\\tan{\\left(5 \\pi \\right)}}\\, d\\pi$"
      ],
      "text/plain": [
       "Integral(sin(pi)*cos(pi)/tan(5*pi), pi)"
      ]
     },
     "execution_count": 25,
     "metadata": {},
     "output_type": "execute_result"
    }
   ],
   "source": [
    "from sympy import sin, cos, tan, integrate, diff, symbols\n",
    "pi = symbols('pi')\n",
    "function = sin(pi)*cos(pi)/tan(5*pi)\n",
    "diff(function, pi)\n",
    "integrate(function, pi)"
   ]
  },
  {
   "cell_type": "code",
   "execution_count": 27,
   "metadata": {},
   "outputs": [
    {
     "data": {
      "text/latex": [
       "$\\displaystyle \\cos{\\left(\\log{\\left(10 \\right)} \\right)} \\cos{\\left(\\left[\\begin{matrix}1 & 2\\\\2 & 4\\end{matrix}\\right] \\right)} \\log{\\left(\\left[\\begin{matrix}1 & 6\\\\9 & 8\\end{matrix}\\right] \\right)}$"
      ],
      "text/plain": [
       "cos(log(10))*cos(Matrix([\n",
       "[1, 2],\n",
       "[2, 4]]))*log(Matrix([\n",
       "[1, 6],\n",
       "[9, 8]]))"
      ]
     },
     "execution_count": 27,
     "metadata": {},
     "output_type": "execute_result"
    }
   ],
   "source": [
    "from sympy import Matrix, cos, log\n",
    "A = cos(Matrix([[1,2],[2,4]]))\n",
    "B = log(Matrix([[1,6],[9,8]]))\n",
    "A*B*cos(log(10))"
   ]
  },
  {
   "cell_type": "code",
   "execution_count": 28,
   "metadata": {},
   "outputs": [
    {
     "data": {
      "text/plain": [
       "78921"
      ]
     },
     "execution_count": 28,
     "metadata": {},
     "output_type": "execute_result"
    }
   ],
   "source": [
    "a = int(input(\"Enter: \"))\n",
    "a"
   ]
  },
  {
   "cell_type": "code",
   "execution_count": 29,
   "metadata": {},
   "outputs": [
    {
     "data": {
      "text/latex": [
       "$\\displaystyle \\beta^{2}$"
      ],
      "text/plain": [
       "beta**2"
      ]
     },
     "execution_count": 29,
     "metadata": {},
     "output_type": "execute_result"
    }
   ],
   "source": [
    "from sympy import integrate, symbols\n",
    "beta = symbols('beta')\n",
    "function = beta**2\n",
    "diff(integrate(function, beta), beta)"
   ]
  },
  {
   "cell_type": "code",
   "execution_count": 30,
   "metadata": {},
   "outputs": [
    {
     "name": "stdout",
     "output_type": "stream",
     "text": [
      "      1 |          .                .                .          \n",
      "        | ..               ..               ..               .. \n",
      "        |           .                               .           \n",
      "        |         .                . .                .         \n",
      "        |                                                       \n",
      "        |   .                .             .                .   \n",
      "        |.                .                   .                .\n",
      "        |                                                       \n",
      "        |                                                       \n",
      "        |        .   .            .   .            .   .        \n",
      "      0 |-------------------------------------------------------\n",
      "        |                                                       \n",
      "        |    .                                             .    \n",
      "        |                .    .           .    .                \n",
      "        |                                                       \n",
      "        |                                                       \n",
      "        |       .     .          .     .          .     .       \n",
      "        |                                                       \n",
      "        |     .                .         .                .     \n",
      "        |               .                       .               \n",
      "     -1 |_______________________________________________________\n",
      "         -10                        0                          10\n"
     ]
    }
   ],
   "source": [
    "from sympy import diff, symbols, sin, cos, plot\n",
    "x = symbols('x')\n",
    "function = sin(x)*cos(x)\n",
    "a = diff(function, x)\n",
    "p1 = plot(a, show=False)\n",
    "p1.show()"
   ]
  },
  {
   "cell_type": "code",
   "execution_count": 31,
   "metadata": {},
   "outputs": [
    {
     "data": {
      "text/latex": [
       "$\\displaystyle - \\frac{794 \\sin{\\left(\\gamma \\right)} \\sin{\\left(2 \\gamma \\right)}}{156009 \\sec{\\left(20 \\gamma \\right)}} + \\frac{7900 \\sin{\\left(\\gamma \\right)} \\cos{\\left(2 \\gamma \\right)} \\tan{\\left(20 \\gamma \\right)}}{156009 \\sec{\\left(20 \\gamma \\right)}} + \\frac{80 \\sin{\\left(2 \\gamma \\right)} \\cos{\\left(\\gamma \\right)} \\tan{\\left(20 \\gamma \\right)}}{156009 \\sec{\\left(20 \\gamma \\right)}} + \\frac{403 \\cos{\\left(\\gamma \\right)} \\cos{\\left(2 \\gamma \\right)}}{156009 \\sec{\\left(20 \\gamma \\right)}}$"
      ],
      "text/plain": [
       "-794*sin(gamma)*sin(2*gamma)/(156009*sec(20*gamma)) + 7900*sin(gamma)*cos(2*gamma)*tan(20*gamma)/(156009*sec(20*gamma)) + 80*sin(2*gamma)*cos(gamma)*tan(20*gamma)/(156009*sec(20*gamma)) + 403*cos(gamma)*cos(2*gamma)/(156009*sec(20*gamma))"
      ]
     },
     "execution_count": 31,
     "metadata": {},
     "output_type": "execute_result"
    }
   ],
   "source": [
    "from sympy import symbols, Matrix, sin, cos, sec, plot\n",
    "from sympy import *\n",
    "gamma = symbols('gamma')\n",
    "function = sin(gamma)*cos(2*gamma)/sec(20*gamma)\n",
    "diff(function, gamma)\n",
    "integrate(function, gamma)"
   ]
  },
  {
   "cell_type": "code",
   "execution_count": 32,
   "metadata": {},
   "outputs": [
    {
     "data": {
      "text/latex": [
       "$\\displaystyle \\left[\\begin{matrix}\\left(- \\frac{2 \\sin{\\left(t \\right)} \\sin{\\left(2 t \\right)}}{\\sec{\\left(2 t \\right)}} - \\frac{2 \\sin{\\left(t \\right)} \\cos{\\left(2 t \\right)} \\tan{\\left(2 t \\right)}}{\\sec{\\left(2 t \\right)}} + \\frac{\\cos{\\left(t \\right)} \\cos{\\left(2 t \\right)}}{\\sec{\\left(2 t \\right)}}\\right) \\left(\\frac{2 \\sin{\\left(t \\right)} \\sin{\\left(2 t \\right)}}{15 \\sec{\\left(2 t \\right)}} + \\frac{2 \\sin{\\left(t \\right)} \\cos{\\left(2 t \\right)} \\tan{\\left(2 t \\right)}}{15 \\sec{\\left(2 t \\right)}} - \\frac{8 \\sin{\\left(2 t \\right)} \\cos{\\left(t \\right)} \\tan{\\left(2 t \\right)}}{15 \\sec{\\left(2 t \\right)}} - \\frac{7 \\cos{\\left(t \\right)} \\cos{\\left(2 t \\right)}}{15 \\sec{\\left(2 t \\right)}}\\right) \\sin{\\left(t \\right)} & \\left(- \\frac{2 \\sin{\\left(t \\right)} \\sin{\\left(2 t \\right)}}{\\sec{\\left(2 t \\right)}} - \\frac{2 \\sin{\\left(t \\right)} \\cos{\\left(2 t \\right)} \\tan{\\left(2 t \\right)}}{\\sec{\\left(2 t \\right)}} + \\frac{\\cos{\\left(t \\right)} \\cos{\\left(2 t \\right)}}{\\sec{\\left(2 t \\right)}}\\right) \\left(\\frac{2 \\sin{\\left(t \\right)} \\sin{\\left(2 t \\right)}}{5 \\sec{\\left(2 t \\right)}} + \\frac{2 \\sin{\\left(t \\right)} \\cos{\\left(2 t \\right)} \\tan{\\left(2 t \\right)}}{5 \\sec{\\left(2 t \\right)}} - \\frac{8 \\sin{\\left(2 t \\right)} \\cos{\\left(t \\right)} \\tan{\\left(2 t \\right)}}{5 \\sec{\\left(2 t \\right)}} - \\frac{7 \\cos{\\left(t \\right)} \\cos{\\left(2 t \\right)}}{5 \\sec{\\left(2 t \\right)}}\\right)\\\\\\left(- \\frac{2 \\sin{\\left(t \\right)} \\sin{\\left(2 t \\right)}}{\\sec{\\left(2 t \\right)}} - \\frac{2 \\sin{\\left(t \\right)} \\cos{\\left(2 t \\right)} \\tan{\\left(2 t \\right)}}{\\sec{\\left(2 t \\right)}} + \\frac{\\cos{\\left(t \\right)} \\cos{\\left(2 t \\right)}}{\\sec{\\left(2 t \\right)}}\\right) \\left(\\frac{2 \\sin{\\left(t \\right)} \\sin{\\left(2 t \\right)}}{15 \\sec{\\left(2 t \\right)}} + \\frac{2 \\sin{\\left(t \\right)} \\cos{\\left(2 t \\right)} \\tan{\\left(2 t \\right)}}{15 \\sec{\\left(2 t \\right)}} - \\frac{8 \\sin{\\left(2 t \\right)} \\cos{\\left(t \\right)} \\tan{\\left(2 t \\right)}}{15 \\sec{\\left(2 t \\right)}} - \\frac{7 \\cos{\\left(t \\right)} \\cos{\\left(2 t \\right)}}{15 \\sec{\\left(2 t \\right)}}\\right) \\cos{\\left(3 t \\right)} & \\left(- \\frac{2 \\sin{\\left(t \\right)} \\sin{\\left(2 t \\right)}}{\\sec{\\left(2 t \\right)}} - \\frac{2 \\sin{\\left(t \\right)} \\cos{\\left(2 t \\right)} \\tan{\\left(2 t \\right)}}{\\sec{\\left(2 t \\right)}} + \\frac{\\cos{\\left(t \\right)} \\cos{\\left(2 t \\right)}}{\\sec{\\left(2 t \\right)}}\\right) \\left(\\frac{104 \\sin{\\left(t \\right)} \\sin{\\left(2 t \\right)}}{15 \\sec{\\left(2 t \\right)}} + \\frac{104 \\sin{\\left(t \\right)} \\cos{\\left(2 t \\right)} \\tan{\\left(2 t \\right)}}{15 \\sec{\\left(2 t \\right)}} - \\frac{416 \\sin{\\left(2 t \\right)} \\cos{\\left(t \\right)} \\tan{\\left(2 t \\right)}}{15 \\sec{\\left(2 t \\right)}} - \\frac{364 \\cos{\\left(t \\right)} \\cos{\\left(2 t \\right)}}{15 \\sec{\\left(2 t \\right)}}\\right)\\end{matrix}\\right]$"
      ],
      "text/plain": [
       "Matrix([\n",
       "[  (-2*sin(t)*sin(2*t)/sec(2*t) - 2*sin(t)*cos(2*t)*tan(2*t)/sec(2*t) + cos(t)*cos(2*t)/sec(2*t))*(2*sin(t)*sin(2*t)/(15*sec(2*t)) + 2*sin(t)*cos(2*t)*tan(2*t)/(15*sec(2*t)) - 8*sin(2*t)*cos(t)*tan(2*t)/(15*sec(2*t)) - 7*cos(t)*cos(2*t)/(15*sec(2*t)))*sin(t),             (-2*sin(t)*sin(2*t)/sec(2*t) - 2*sin(t)*cos(2*t)*tan(2*t)/sec(2*t) + cos(t)*cos(2*t)/sec(2*t))*(2*sin(t)*sin(2*t)/(5*sec(2*t)) + 2*sin(t)*cos(2*t)*tan(2*t)/(5*sec(2*t)) - 8*sin(2*t)*cos(t)*tan(2*t)/(5*sec(2*t)) - 7*cos(t)*cos(2*t)/(5*sec(2*t)))],\n",
       "[(-2*sin(t)*sin(2*t)/sec(2*t) - 2*sin(t)*cos(2*t)*tan(2*t)/sec(2*t) + cos(t)*cos(2*t)/sec(2*t))*(2*sin(t)*sin(2*t)/(15*sec(2*t)) + 2*sin(t)*cos(2*t)*tan(2*t)/(15*sec(2*t)) - 8*sin(2*t)*cos(t)*tan(2*t)/(15*sec(2*t)) - 7*cos(t)*cos(2*t)/(15*sec(2*t)))*cos(3*t), (-2*sin(t)*sin(2*t)/sec(2*t) - 2*sin(t)*cos(2*t)*tan(2*t)/sec(2*t) + cos(t)*cos(2*t)/sec(2*t))*(104*sin(t)*sin(2*t)/(15*sec(2*t)) + 104*sin(t)*cos(2*t)*tan(2*t)/(15*sec(2*t)) - 416*sin(2*t)*cos(t)*tan(2*t)/(15*sec(2*t)) - 364*cos(t)*cos(2*t)/(15*sec(2*t)))]])"
      ]
     },
     "execution_count": 32,
     "metadata": {},
     "output_type": "execute_result"
    }
   ],
   "source": [
    "from sympy import symbols, plot, sin, cos, sec, Matrix\n",
    "from sympy import *\n",
    "t = symbols('t')\n",
    "function = sin(t)*cos(2*t)/sec(2*t)\n",
    "differentiation = diff(function, t)\n",
    "integration = integrate(function, t)\n",
    "integration_plot = plot(integration, show=False)\n",
    "A = Matrix([[sin(t),3],[cos(3*t),52]])\n",
    "B = A*integration*differentiation\n",
    "B"
   ]
  },
  {
   "cell_type": "code",
   "execution_count": 9,
   "metadata": {},
   "outputs": [
    {
     "name": "stdout",
     "output_type": "stream",
     "text": [
      "[('The sin of 1 is: ', 0.8414709848078965), ('The sin of 2 is: ', 0.9092974268256817), ('The sin of 3 is: ', 0.1411200080598672), ('The sin of 4 is: ', -0.7568024953079283), ('The sin of 5 is: ', -0.9589242746631385), ('The sin of 6 is: ', -0.27941549819892586), ('The sin of 7 is: ', 0.6569865987187891), ('The sin of 8 is: ', 0.9893582466233818), ('The sin of 9 is: ', 0.4121184852417566), ('The sin of 10 is: ', -0.5440211108893698)]\n"
     ]
    }
   ],
   "source": [
    "import math\n",
    "tau = symbols('tau')\n",
    "def number(num):\n",
    "    sin_of_value = math.sin(num)\n",
    "    return f\"The sin of {num} is: \", sin_of_value\n",
    "def sin_value(start, end):\n",
    "    results = []\n",
    "    for i in range(start, end+1):\n",
    "        result = number(i)\n",
    "        results.append(result)\n",
    "    return results\n",
    "start_range = int(input(\"Enter the starting range: \"))\n",
    "end_range = int(input(\"Enter the ending range: \"))\n",
    "final_result = sin_value(start_range, end_range)\n",
    "print(final_result)"
   ]
  },
  {
   "cell_type": "code",
   "execution_count": 13,
   "metadata": {},
   "outputs": [
    {
     "name": "stdout",
     "output_type": "stream",
     "text": [
      "[0.2919265817264289, 0.17317818956819406, 0.9800851433251829, 0.42724998309569334, 0.08046423546177378, 0.921926979366246, 0.5683686091039166, 0.02117025983830768, 0.8301583541220399, 0.7040410309066958]\n"
     ]
    }
   ],
   "source": [
    "import math\n",
    "def hi(start, end):\n",
    "    result = []\n",
    "    for g in range(start, end+1):\n",
    "        result.append(math.sin(g)*math.cos(g)/math.tan(g))\n",
    "    return result\n",
    "start_range = int(input(\"Enter the starting value: \"))\n",
    "end_range = int(input(\"Enter the ending value: \"))\n",
    "final = hi(start_range, end_range)\n",
    "print(final)"
   ]
  },
  {
   "cell_type": "code",
   "execution_count": 20,
   "metadata": {},
   "outputs": [
    {
     "data": {
      "text/plain": [
       "('The differentiation of 2*tau*sin(tau)*cos(tau)/tan(tau) is: ',\n",
       " 2*tau*(-tan(tau)**2 - 1)*sin(tau)*cos(tau)/tan(tau)**2 - 2*tau*sin(tau)**2/tan(tau) + 2*tau*cos(tau)**2/tan(tau) + 2*sin(tau)*cos(tau)/tan(tau))"
      ]
     },
     "execution_count": 20,
     "metadata": {},
     "output_type": "execute_result"
    }
   ],
   "source": [
    "import math\n",
    "from sympy import symbols, sin, cos, tan, diff \n",
    "from sympy import *\n",
    "tau = symbols('tau')\n",
    "def diff_write(diff_w):\n",
    "    diff_value = diff(diff_w, tau)\n",
    "    return f\"The differentiation of {diff_w} is: \", diff_value\n",
    "result = 2*tau*cos(tau)*sin(tau)/tan(tau)\n",
    "final = diff_write(result)\n",
    "final"
   ]
  },
  {
   "cell_type": "code",
   "execution_count": 21,
   "metadata": {},
   "outputs": [
    {
     "data": {
      "text/latex": [
       "$\\displaystyle \\frac{2 \\tau \\left(- \\tan^{2}{\\left(\\tau \\right)} - 1\\right) \\sin{\\left(\\tau \\right)} \\cos{\\left(\\tau \\right)}}{\\tan^{2}{\\left(\\tau \\right)}} - \\frac{2 \\tau \\sin^{2}{\\left(\\tau \\right)}}{\\tan{\\left(\\tau \\right)}} + \\frac{2 \\tau \\cos^{2}{\\left(\\tau \\right)}}{\\tan{\\left(\\tau \\right)}} + \\frac{2 \\sin{\\left(\\tau \\right)} \\cos{\\left(\\tau \\right)}}{\\tan{\\left(\\tau \\right)}}$"
      ],
      "text/plain": [
       "2*tau*(-tan(tau)**2 - 1)*sin(tau)*cos(tau)/tan(tau)**2 - 2*tau*sin(tau)**2/tan(tau) + 2*tau*cos(tau)**2/tan(tau) + 2*sin(tau)*cos(tau)/tan(tau)"
      ]
     },
     "execution_count": 21,
     "metadata": {},
     "output_type": "execute_result"
    }
   ],
   "source": [
    "from sympy import symbols, sin, cos, tan, diff \n",
    "from sympy import *\n",
    "tau = symbols('tau')\n",
    "result = 2*tau*cos(tau)*sin(tau)/tan(tau)\n",
    "diff(result, tau)"
   ]
  },
  {
   "cell_type": "code",
   "execution_count": 30,
   "metadata": {},
   "outputs": [
    {
     "name": "stdout",
     "output_type": "stream",
     "text": [
      "9 is Odd\n"
     ]
    }
   ],
   "source": [
    "import math\n",
    "def check_even_or_odd(number):\n",
    "    if number % 2 == 0:\n",
    "        print(f\"{number} is Even\")\n",
    "    else:\n",
    "        print(f\"{number} is Odd\")\n",
    "input_number = int(input(\"Enter the number please Sir/Maam: \"))\n",
    "result = check_even_or_odd(input_number)\n",
    "result"
   ]
  },
  {
   "cell_type": "code",
   "execution_count": 31,
   "metadata": {},
   "outputs": [
    {
     "name": "stdout",
     "output_type": "stream",
     "text": [
      "Hello World!\n"
     ]
    }
   ],
   "source": [
    "print(\"Hello World!\")"
   ]
  },
  {
   "cell_type": "code",
   "execution_count": 32,
   "metadata": {},
   "outputs": [
    {
     "name": "stdout",
     "output_type": "stream",
     "text": [
      "Hi, Boy\n"
     ]
    }
   ],
   "source": [
    "print(\"Hi, Boy\")"
   ]
  },
  {
   "cell_type": "code",
   "execution_count": 39,
   "metadata": {},
   "outputs": [
    {
     "data": {
      "text/latex": [
       "$\\displaystyle \\left[\\begin{matrix}\\left(\\frac{6 \\sigma \\left(\\tan^{2}{\\left(\\sec{\\left(\\csc{\\left(2 \\sigma \\right)} \\right)} \\right)} + 1\\right) \\sin{\\left(\\sigma \\right)} \\tan{\\left(\\csc{\\left(2 \\sigma \\right)} \\right)} \\cot{\\left(2 \\sigma \\right)} \\csc{\\left(2 \\sigma \\right)} \\sec{\\left(\\csc{\\left(2 \\sigma \\right)} \\right)}}{\\cos{\\left(\\sigma \\right)} \\tan^{2}{\\left(\\sec{\\left(\\csc{\\left(2 \\sigma \\right)} \\right)} \\right)}} + \\frac{3 \\sigma \\sin^{2}{\\left(\\sigma \\right)}}{\\cos^{2}{\\left(\\sigma \\right)} \\tan{\\left(\\sec{\\left(\\csc{\\left(2 \\sigma \\right)} \\right)} \\right)}} + \\frac{3 \\sigma}{\\tan{\\left(\\sec{\\left(\\csc{\\left(2 \\sigma \\right)} \\right)} \\right)}} + \\frac{3 \\sin{\\left(\\sigma \\right)}}{\\cos{\\left(\\sigma \\right)} \\tan{\\left(\\sec{\\left(\\csc{\\left(2 \\sigma \\right)} \\right)} \\right)}}\\right) \\sin{\\left(\\sigma \\right)} & \\left(\\frac{6 \\sigma \\left(\\tan^{2}{\\left(\\sec{\\left(\\csc{\\left(2 \\sigma \\right)} \\right)} \\right)} + 1\\right) \\sin{\\left(\\sigma \\right)} \\tan{\\left(\\csc{\\left(2 \\sigma \\right)} \\right)} \\cot{\\left(2 \\sigma \\right)} \\csc{\\left(2 \\sigma \\right)} \\sec{\\left(\\csc{\\left(2 \\sigma \\right)} \\right)}}{\\cos{\\left(\\sigma \\right)} \\tan^{2}{\\left(\\sec{\\left(\\csc{\\left(2 \\sigma \\right)} \\right)} \\right)}} + \\frac{3 \\sigma \\sin^{2}{\\left(\\sigma \\right)}}{\\cos^{2}{\\left(\\sigma \\right)} \\tan{\\left(\\sec{\\left(\\csc{\\left(2 \\sigma \\right)} \\right)} \\right)}} + \\frac{3 \\sigma}{\\tan{\\left(\\sec{\\left(\\csc{\\left(2 \\sigma \\right)} \\right)} \\right)}} + \\frac{3 \\sin{\\left(\\sigma \\right)}}{\\cos{\\left(\\sigma \\right)} \\tan{\\left(\\sec{\\left(\\csc{\\left(2 \\sigma \\right)} \\right)} \\right)}}\\right) \\cos{\\left(2 \\sigma \\right)}\\\\\\frac{12 \\sigma \\left(\\tan^{2}{\\left(\\sec{\\left(\\csc{\\left(2 \\sigma \\right)} \\right)} \\right)} + 1\\right) \\sin{\\left(\\sigma \\right)} \\tan{\\left(\\csc{\\left(2 \\sigma \\right)} \\right)} \\cot{\\left(2 \\sigma \\right)} \\csc{\\left(2 \\sigma \\right)} \\sec{\\left(\\csc{\\left(2 \\sigma \\right)} \\right)}}{\\cos{\\left(\\sigma \\right)} \\tan^{2}{\\left(\\sec{\\left(\\csc{\\left(2 \\sigma \\right)} \\right)} \\right)}} + \\frac{6 \\sigma \\sin^{2}{\\left(\\sigma \\right)}}{\\cos^{2}{\\left(\\sigma \\right)} \\tan{\\left(\\sec{\\left(\\csc{\\left(2 \\sigma \\right)} \\right)} \\right)}} + \\frac{6 \\sigma}{\\tan{\\left(\\sec{\\left(\\csc{\\left(2 \\sigma \\right)} \\right)} \\right)}} + \\frac{6 \\sin{\\left(\\sigma \\right)}}{\\cos{\\left(\\sigma \\right)} \\tan{\\left(\\sec{\\left(\\csc{\\left(2 \\sigma \\right)} \\right)} \\right)}} & \\frac{204 \\sigma \\left(\\tan^{2}{\\left(\\sec{\\left(\\csc{\\left(2 \\sigma \\right)} \\right)} \\right)} + 1\\right) \\sin{\\left(\\sigma \\right)} \\tan{\\left(\\csc{\\left(2 \\sigma \\right)} \\right)} \\cot{\\left(2 \\sigma \\right)} \\csc{\\left(2 \\sigma \\right)} \\sec{\\left(\\csc{\\left(2 \\sigma \\right)} \\right)}}{\\cos{\\left(\\sigma \\right)} \\tan^{2}{\\left(\\sec{\\left(\\csc{\\left(2 \\sigma \\right)} \\right)} \\right)}} + \\frac{102 \\sigma \\sin^{2}{\\left(\\sigma \\right)}}{\\cos^{2}{\\left(\\sigma \\right)} \\tan{\\left(\\sec{\\left(\\csc{\\left(2 \\sigma \\right)} \\right)} \\right)}} + \\frac{102 \\sigma}{\\tan{\\left(\\sec{\\left(\\csc{\\left(2 \\sigma \\right)} \\right)} \\right)}} + \\frac{102 \\sin{\\left(\\sigma \\right)}}{\\cos{\\left(\\sigma \\right)} \\tan{\\left(\\sec{\\left(\\csc{\\left(2 \\sigma \\right)} \\right)} \\right)}}\\end{matrix}\\right]$"
      ],
      "text/plain": [
       "Matrix([\n",
       "[(6*sigma*(tan(sec(csc(2*sigma)))**2 + 1)*sin(sigma)*tan(csc(2*sigma))*cot(2*sigma)*csc(2*sigma)*sec(csc(2*sigma))/(cos(sigma)*tan(sec(csc(2*sigma)))**2) + 3*sigma*sin(sigma)**2/(cos(sigma)**2*tan(sec(csc(2*sigma)))) + 3*sigma/tan(sec(csc(2*sigma))) + 3*sin(sigma)/(cos(sigma)*tan(sec(csc(2*sigma)))))*sin(sigma), (6*sigma*(tan(sec(csc(2*sigma)))**2 + 1)*sin(sigma)*tan(csc(2*sigma))*cot(2*sigma)*csc(2*sigma)*sec(csc(2*sigma))/(cos(sigma)*tan(sec(csc(2*sigma)))**2) + 3*sigma*sin(sigma)**2/(cos(sigma)**2*tan(sec(csc(2*sigma)))) + 3*sigma/tan(sec(csc(2*sigma))) + 3*sin(sigma)/(cos(sigma)*tan(sec(csc(2*sigma)))))*cos(2*sigma)],\n",
       "[            12*sigma*(tan(sec(csc(2*sigma)))**2 + 1)*sin(sigma)*tan(csc(2*sigma))*cot(2*sigma)*csc(2*sigma)*sec(csc(2*sigma))/(cos(sigma)*tan(sec(csc(2*sigma)))**2) + 6*sigma*sin(sigma)**2/(cos(sigma)**2*tan(sec(csc(2*sigma)))) + 6*sigma/tan(sec(csc(2*sigma))) + 6*sin(sigma)/(cos(sigma)*tan(sec(csc(2*sigma)))),        204*sigma*(tan(sec(csc(2*sigma)))**2 + 1)*sin(sigma)*tan(csc(2*sigma))*cot(2*sigma)*csc(2*sigma)*sec(csc(2*sigma))/(cos(sigma)*tan(sec(csc(2*sigma)))**2) + 102*sigma*sin(sigma)**2/(cos(sigma)**2*tan(sec(csc(2*sigma)))) + 102*sigma/tan(sec(csc(2*sigma))) + 102*sin(sigma)/(cos(sigma)*tan(sec(csc(2*sigma))))]])"
      ]
     },
     "execution_count": 39,
     "metadata": {},
     "output_type": "execute_result"
    }
   ],
   "source": [
    "from sympy import sin, cos, tan, sec, csc, symbols, Matrix\n",
    "from sympy import *\n",
    "sigma = symbols('sigma')\n",
    "sigma\n",
    "function = sin(sigma)*3*sigma/(cos(sigma)*tan(sec(csc(2*sigma))))\n",
    "diff(function, sigma)\n",
    "A = Matrix([[sin(sigma), cos(2*sigma)],[2, 34]])\n",
    "A*diff(function, sigma)"
   ]
  },
  {
   "cell_type": "code",
   "execution_count": 1,
   "metadata": {},
   "outputs": [
    {
     "name": "stdout",
     "output_type": "stream",
     "text": [
      "Your Total Investment in Stock aapl is: 176380.0048828125\n"
     ]
    }
   ],
   "source": [
    "import yfinance as yf\n",
    "\n",
    "def invest(money):\n",
    "    stock_symbol = str(input(\"Enter the Stock Symbol: \"))\n",
    "    stock_data = yf.Ticker(stock_symbol)\n",
    "    current_close = stock_data.history(period=\"1d\")\n",
    "    close_info = current_close['Close'][0]\n",
    "    invest_amount = money * close_info\n",
    "    print(f\"Your Total Investment in Stock {stock_symbol} is: {invest_amount}\")\n",
    "\n",
    "input_money = int(input(\"Enter the Capital to invest: \"))\n",
    "invest(input_money)\n"
   ]
  },
  {
   "cell_type": "code",
   "execution_count": 10,
   "metadata": {},
   "outputs": [
    {
     "name": "stdout",
     "output_type": "stream",
     "text": [
      "The Current Opening Price of aapl is:  177.38\n",
      "The Current Closing Price of aapl is:  177.83999633789062\n",
      "According to your Capital 1000.0 you have invested 5.623032054611777 in the stock\n",
      "None\n"
     ]
    }
   ],
   "source": [
    "import yfinance as yf\n",
    "import math\n",
    "\n",
    "def check_open_close_price(stock_symbol):\n",
    "    stock = yf.Ticker(stock_symbol)\n",
    "    current_open_price_info = stock.info[\"open\"]\n",
    "    current_close_price_info = stock.history(period=\"1d\")['Close'][0]\n",
    "    print(f\"The Current Opening Price of {stock_symbol} is: \", current_open_price_info)\n",
    "    print(f\"The Current Closing Price of {stock_symbol} is: \", current_close_price_info)\n",
    "    return current_open_price_info, current_close_price_info\n",
    "\n",
    "def invest(money, close_price):\n",
    "    shares = money / close_price\n",
    "    print(f\"According to your Capital {money} you have invested {shares} in the stock\")\n",
    "input_stock_symbol = str(input(\"Enter the stock symbol: \"))\n",
    "open_price, close_price = check_open_close_price(input_stock_symbol)\n",
    "input_money = float(input(\"Enter the Capital which is available to you right now right here: \"))\n",
    "print(invest(input_money, close_price))\n"
   ]
  },
  {
   "cell_type": "code",
   "execution_count": 5,
   "metadata": {},
   "outputs": [
    {
     "name": "stdout",
     "output_type": "stream",
     "text": [
      "The Current Opening Price of aapl is:  177.38\n",
      "The Current Closing Price of aapl is:  177.0\n",
      "With the available capital of 1000.0, you can buy 5.65 shares.\n"
     ]
    }
   ],
   "source": [
    "import yfinance as yf\n",
    "\n",
    "def check_open_close_price(stock_symbol):\n",
    "    stock = yf.Ticker(stock_symbol)\n",
    "    current_open_price_info = stock.info[\"open\"]\n",
    "    current_close_price_info = stock.history(period=\"1d\")['Close'][0]\n",
    "    print(f\"The Current Opening Price of {stock_symbol} is: \", current_open_price_info)\n",
    "    print(f\"The Current Closing Price of {stock_symbol} is: \", current_close_price_info)\n",
    "    return current_open_price_info, current_close_price_info\n",
    "\n",
    "def invest(money, close_price):\n",
    "    shares = money / close_price\n",
    "    print(f\"With the available capital of {money}, you can buy {shares:.2f} shares.\")\n",
    "\n",
    "input_stock_symbol = str(input(\"Enter the Stock Symbol: \"))\n",
    "open_price, close_price = check_open_close_price(input_stock_symbol)\n",
    "\n",
    "input_money = float(input(\"Enter the Capital which is available to you right now: \"))\n",
    "invest(input_money, close_price)\n"
   ]
  },
  {
   "cell_type": "code",
   "execution_count": 7,
   "metadata": {},
   "outputs": [
    {
     "name": "stdout",
     "output_type": "stream",
     "text": [
      "165.202264064 Billion $\n"
     ]
    }
   ],
   "source": [
    "import yfinance as yf\n",
    "import math\n",
    "a = yf.Ticker(\"AMD\")\n",
    "b = a.info[\"marketCap\"]\n",
    "c = b / 10**9\n",
    "print(c,\"Billion $\")"
   ]
  },
  {
   "cell_type": "code",
   "execution_count": 12,
   "metadata": {},
   "outputs": [
    {
     "data": {
      "text/latex": [
       "$\\displaystyle \\left[\\begin{matrix}1 & -2\\\\0 & 0\\end{matrix}\\right]$"
      ],
      "text/plain": [
       "Matrix([\n",
       "[1, -2],\n",
       "[0,  0]])"
      ]
     },
     "execution_count": 12,
     "metadata": {},
     "output_type": "execute_result"
    }
   ],
   "source": [
    "from sympy import Matrix, symbols, det, solve\n",
    "from sympy import *\n",
    "a, b, c = symbols('a, b, c')\n",
    "A = Matrix([[a**2, a*b, a*c],[a*b,b**2,b*c],[a*c,b*c,c**2]])\n",
    "B = Matrix([[0, c, -b],[-c,0,a],[b,-a,0]])\n",
    "C = Matrix([[a,1,-a],[0,2,2*a],[-3,4,-1]])\n",
    "determinant = det(C)\n",
    "solve_of = solve(determinant, a)\n",
    "D = Matrix([[1,-2],[0,0]])\n",
    "D_2 = D*D\n",
    "D_3 = D_2*D\n",
    "D_3"
   ]
  },
  {
   "cell_type": "code",
   "execution_count": 23,
   "metadata": {},
   "outputs": [
    {
     "name": "stdout",
     "output_type": "stream",
     "text": [
      "Solutions: []\n",
      "No solutions found.\n"
     ]
    }
   ],
   "source": [
    "from sympy import symbols, Eq, solve, Matrix\n",
    "\n",
    "# Define the symbolic variables\n",
    "b11, b12, b21, b22 = symbols('b11 b12 b21 b22')\n",
    "\n",
    "# Define matrices A and B\n",
    "A = Matrix([[1, 5],\n",
    "            [3, -1]])\n",
    "\n",
    "B = Matrix([[b11, b12],\n",
    "            [b21, b22]])\n",
    "\n",
    "# Define the given equations\n",
    "equation1 = Eq(A - 2 * B, Matrix([[1, 5],\n",
    "                                   [3, -1]]))\n",
    "\n",
    "equation2 = Eq(2 * A - 3 * B, Matrix([[-3, 0],\n",
    "                                      [0, 1]]))\n",
    "\n",
    "# Solve the system of equations for B\n",
    "solutions = solve((equation1, equation2), (b11, b12, b21, b22))\n",
    "\n",
    "# Print the solutions for debugging\n",
    "print(\"Solutions:\", solutions)\n",
    "\n",
    "# Extract the values of B from the solution dictionary\n",
    "if solutions:\n",
    "    solution = solutions[0]\n",
    "    b11_value = solution[b11]\n",
    "    b12_value = solution[b12]\n",
    "    b21_value = solution[b21]\n",
    "    b22_value = solution[b22]\n",
    "\n",
    "    # Form the matrix B\n",
    "    B_matrix = Matrix([[b11_value, b12_value],\n",
    "                       [b21_value, b22_value]])\n",
    "\n",
    "    print(\"Matrix B:\")\n",
    "    print(B_matrix)\n",
    "else:\n",
    "    print(\"No solutions found.\")\n"
   ]
  },
  {
   "cell_type": "code",
   "execution_count": 26,
   "metadata": {},
   "outputs": [
    {
     "name": "stdout",
     "output_type": "stream",
     "text": [
      "A_alpha * A_beta:\n"
     ]
    },
    {
     "data": {
      "text/latex": [
       "$\\displaystyle \\left[\\begin{matrix}\\cos{\\left(\\alpha + \\beta \\right)} & \\sin{\\left(\\alpha + \\beta \\right)}\\\\- \\sin{\\left(\\alpha + \\beta \\right)} & \\cos{\\left(\\alpha + \\beta \\right)}\\end{matrix}\\right]$"
      ],
      "text/plain": [
       "Matrix([\n",
       "[ cos(alpha + beta), sin(alpha + beta)],\n",
       "[-sin(alpha + beta), cos(alpha + beta)]])"
      ]
     },
     "execution_count": 26,
     "metadata": {},
     "output_type": "execute_result"
    }
   ],
   "source": [
    "from sympy import symbols, cos, sin, Matrix, simplify\n",
    "\n",
    "# Define the symbolic variables\n",
    "alpha, beta = symbols('alpha beta')\n",
    "\n",
    "# Define matrices A_alpha and A_beta\n",
    "A_alpha = Matrix([[cos(alpha), sin(alpha)],\n",
    "                  [-sin(alpha), cos(alpha)]])\n",
    "\n",
    "A_beta = Matrix([[cos(beta), sin(beta)],\n",
    "                 [-sin(beta), cos(beta)]])\n",
    "\n",
    "# Calculate the product A_alpha * A_beta\n",
    "A_alpha_beta = A_alpha * A_beta\n",
    "\n",
    "# Simplify the result\n",
    "A_alpha_beta_simplified = simplify(A_alpha_beta)\n",
    "\n",
    "print(\"A_alpha * A_beta:\")\n",
    "A_alpha_beta_simplified\n"
   ]
  },
  {
   "cell_type": "code",
   "execution_count": 28,
   "metadata": {},
   "outputs": [
    {
     "name": "stdout",
     "output_type": "stream",
     "text": [
      "Simplified Integrand:\n",
      "sin(3*x)/sin(x)\n",
      "Integrated Result:\n",
      "x + sin(2*x)\n"
     ]
    }
   ],
   "source": [
    "from sympy import symbols, sin, simplify, integrate\n",
    "\n",
    "# Define the symbolic variable x\n",
    "x = symbols('x')\n",
    "\n",
    "# Define the integrand\n",
    "integrand = sin(3*x) / sin(x)\n",
    "\n",
    "# Simplify the integrand\n",
    "simplified_integrand = simplify(integrand)\n",
    "\n",
    "# Print the simplified integrand\n",
    "print(\"Simplified Integrand:\")\n",
    "print(simplified_integrand)\n",
    "\n",
    "# Integrate the simplified integrand\n",
    "integral_result = integrate(simplified_integrand, x)\n",
    "\n",
    "# Print the integrated result\n",
    "print(\"Integrated Result:\")\n",
    "print(integral_result)\n"
   ]
  },
  {
   "cell_type": "code",
   "execution_count": 30,
   "metadata": {},
   "outputs": [
    {
     "name": "stdout",
     "output_type": "stream",
     "text": [
      "Result:\n",
      "-12*x*tan(x/2)**6/(6*tan(x/2)**6 + 18*tan(x/2)**4 + 18*tan(x/2)**2 + 6) - 36*x*tan(x/2)**4/(6*tan(x/2)**6 + 18*tan(x/2)**4 + 18*tan(x/2)**2 + 6) - 36*x*tan(x/2)**2/(6*tan(x/2)**6 + 18*tan(x/2)**4 + 18*tan(x/2)**2 + 6) - 12*x/(6*tan(x/2)**6 + 18*tan(x/2)**4 + 18*tan(x/2)**2 + 6) + 3*x*tan(x/2)**2/(tan(x/2)**2 + 1) + 3*x/(tan(x/2)**2 + 1) + (log(cos(x) - 1)/2 - log(cos(x) + 1)/2)*sin(3*x) - log(cos(x) - 1)*sin(3*x)/2 + log(cos(x) + 1)*sin(3*x)/2 - 24*tan(x/2)**5/(6*tan(x/2)**6 + 18*tan(x/2)**4 + 18*tan(x/2)**2 + 6) + 24*tan(x/2)/(6*tan(x/2)**6 + 18*tan(x/2)**4 + 18*tan(x/2)**2 + 6)\n"
     ]
    }
   ],
   "source": [
    "from sympy import symbols, sin, integrate, diff\n",
    "\n",
    "# Define the symbolic variable\n",
    "x = symbols('x')\n",
    "\n",
    "# Choose u and dv\n",
    "u = sin(3*x)\n",
    "dv = 1 / sin(x)\n",
    "\n",
    "# Compute du and v\n",
    "du = diff(u, x)\n",
    "v = integrate(dv, x)\n",
    "\n",
    "# Apply the integration by parts formula\n",
    "integral_result = u * v - integrate(v * du, x)\n",
    "\n",
    "print(\"Result:\")\n",
    "print(integral_result)\n"
   ]
  },
  {
   "cell_type": "code",
   "execution_count": 20,
   "metadata": {},
   "outputs": [
    {
     "data": {
      "text/latex": [
       "$\\displaystyle \\frac{1}{2}$"
      ],
      "text/plain": [
       "1/2"
      ]
     },
     "execution_count": 20,
     "metadata": {},
     "output_type": "execute_result"
    }
   ],
   "source": [
    "from sympy import symbols, exp, integrate, oo\n",
    "from sympy import *\n",
    "x= symbols('x')\n",
    "f = exp(2*x)\n",
    "integrate(f, (x, -oo, 0))"
   ]
  },
  {
   "cell_type": "code",
   "execution_count": 33,
   "metadata": {},
   "outputs": [
    {
     "data": {
      "text/latex": [
       "$\\displaystyle 0$"
      ],
      "text/plain": [
       "0"
      ]
     },
     "execution_count": 33,
     "metadata": {},
     "output_type": "execute_result"
    }
   ],
   "source": [
    "from sympy import symbols, tan, integrate, oo, atan\n",
    "from sympy import *\n",
    "x = symbols('x')\n",
    "f = 1 / (1+x**2)\n",
    "integrate(f, (x, -oo, oo))\n",
    "atan(-pi/2)\n",
    "atan(pi/2)\n",
    "1/oo"
   ]
  },
  {
   "cell_type": "code",
   "execution_count": 60,
   "metadata": {},
   "outputs": [
    {
     "data": {
      "text/latex": [
       "$\\displaystyle 1$"
      ],
      "text/plain": [
       "1"
      ]
     },
     "execution_count": 60,
     "metadata": {},
     "output_type": "execute_result"
    }
   ],
   "source": [
    "from sympy import symbols, tan, integrate, oo, atan, exp, ln, sec\n",
    "from sympy import *\n",
    "x = symbols('x')\n",
    "f = 1/(exp(x)+exp(-x))\n",
    "integrate(f, (x, -oo, oo))\n",
    "atan(oo)\n",
    "\n",
    "atan(0)\n",
    "integrate(tan(x), x)\n",
    "sec(0)"
   ]
  },
  {
   "cell_type": "code",
   "execution_count": 48,
   "metadata": {},
   "outputs": [
    {
     "name": "stdout",
     "output_type": "stream",
     "text": [
      "Numerical result: 0.9442157056960554\n",
      "Estimated error: 5.653459126149095e-11\n"
     ]
    }
   ],
   "source": [
    "from scipy import integrate\n",
    "import numpy as np\n",
    "\n",
    "def integrand(x):\n",
    "    return 1 / ((1 + x**2) * (1 + np.arctan(x)))\n",
    "\n",
    "result, error = integrate.quad(integrand, 0, np.inf)\n",
    "print(\"Numerical result:\", result)\n",
    "print(\"Estimated error:\", error)\n"
   ]
  },
  {
   "cell_type": "code",
   "execution_count": 6,
   "metadata": {},
   "outputs": [
    {
     "name": "stdout",
     "output_type": "stream",
     "text": [
      "ID: 1, Student:  Vatsal, Marks: 76\n",
      "ID: 2, Student:  Yug, Marks: 38\n",
      "ID: 3, Student:  Shubh, Marks: 70\n",
      "ID: 4, Student:  Arham, Marks: 50\n",
      "ID: 5, Student:  Rudra, Marks: 68\n",
      "ID: 6, Student:  Dhanak, Marks: 23\n"
     ]
    }
   ],
   "source": [
    "import pandas as pd\n",
    "\n",
    "# Read the CSV file into a pandas DataFrame\n",
    "data = pd.read_csv(\"students.csv\", header=None, names=[\"id\", \"students\", \"marks\"])\n",
    "\n",
    "# Extract data into separate Series\n",
    "ids = data[\"id\"]\n",
    "students = data[\"students\"]\n",
    "marks = data[\"marks\"]\n",
    "\n",
    "# Print the data\n",
    "for i in range(len(ids)):\n",
    "    print(f\"ID: {ids[i]}, Student: {students[i]}, Marks: {marks[i]}\")\n"
   ]
  },
  {
   "cell_type": "code",
   "execution_count": 7,
   "metadata": {},
   "outputs": [
    {
     "name": "stdout",
     "output_type": "stream",
     "text": [
      "   id students  marks\n",
      "0   1   Vatsal     76\n",
      "1   2      Yug     38\n",
      "2   3    Shubh     70\n",
      "3   4    Arham     50\n",
      "4   5    Rudra     68\n",
      "5   6   Dhanak     23\n"
     ]
    }
   ],
   "source": [
    "import pandas as pd\n",
    "\n",
    "# Read the CSV file into a pandas DataFrame\n",
    "data = pd.read_csv(\"students.csv\", header=None, names=[\"id\", \"students\", \"marks\"])\n",
    "\n",
    "# Display the data in a table format\n",
    "print(data)\n"
   ]
  },
  {
   "cell_type": "code",
   "execution_count": 48,
   "metadata": {},
   "outputs": [
    {
     "data": {
      "text/latex": [
       "$\\displaystyle 27$"
      ],
      "text/plain": [
       "27"
      ]
     },
     "execution_count": 48,
     "metadata": {},
     "output_type": "execute_result"
    }
   ],
   "source": [
    "from sympy import atan, symbols, sqrt\n",
    "from sympy import *\n",
    "x = symbols('x')\n",
    "function = atan(x*(3-4*x**2)/(sqrt(1-x**2)*(1-4*x**2)))\n",
    "diff_1 = diff(function, x)\n",
    "diff_2 = diff(diff_1, x)\n",
    "diff_3 = diff(diff_2, x)\n",
    "diff_4 = diff(diff_3, x)\n",
    "diff_1_subs = diff_1.subs(x, 0)\n",
    "diff_1_subs\n",
    "diff_4.subs(x,0)\n",
    "diff_5 = diff(diff_4, x)\n",
    "diff_5.subs(x,0)"
   ]
  },
  {
   "cell_type": "code",
   "execution_count": 39,
   "metadata": {},
   "outputs": [
    {
     "name": "stdout",
     "output_type": "stream",
     "text": [
      "First derivative at x = 0: 3\n"
     ]
    },
    {
     "data": {
      "text/latex": [
       "$\\displaystyle 3$"
      ],
      "text/plain": [
       "3"
      ]
     },
     "execution_count": 39,
     "metadata": {},
     "output_type": "execute_result"
    }
   ],
   "source": [
    "from sympy import atan, symbols, sqrt, diff\n",
    "\n",
    "x = symbols('x')\n",
    "function = atan(x * (3 - 4*x**2) / (sqrt(1 - x**2) * (1 - 4*x**2)))\n",
    "diff_1 = diff(function, x)\n",
    "diff_2 = diff(diff_1, x)\n",
    "diff_3 = diff(diff_2, x)\n",
    "diff_4 = diff(diff_3, x)\n",
    "diff_1_subs = diff_1.subs(x, 0)\n",
    "\n",
    "print(\"First derivative at x = 0:\", diff_1_subs)\n",
    "diff_1_subs\n"
   ]
  },
  {
   "cell_type": "code",
   "execution_count": 50,
   "metadata": {},
   "outputs": [
    {
     "name": "stdout",
     "output_type": "stream",
     "text": [
      "Expanded expression: sin(x + pi/4)\n",
      "sin(46 degrees): sin(8280/pi)\n"
     ]
    },
    {
     "data": {
      "text/latex": [
       "$\\displaystyle \\sin{\\left(x + \\frac{\\pi}{4} \\right)}$"
      ],
      "text/plain": [
       "sin(x + pi/4)"
      ]
     },
     "execution_count": 50,
     "metadata": {},
     "output_type": "execute_result"
    }
   ],
   "source": [
    "from sympy import sin, symbols, pi, deg, expand, sin\n",
    "\n",
    "x = symbols('x')\n",
    "expression = sin(pi/4 + x)\n",
    "\n",
    "# Expand the expression in terms of powers of x\n",
    "expanded_expression = expand(expression)\n",
    "\n",
    "print(\"Expanded expression:\", expanded_expression)\n",
    "\n",
    "# Calculate the value of sin(46 degrees)\n",
    "sin_46_degrees = sin(deg(46))\n",
    "\n",
    "print(\"sin(46 degrees):\", sin_46_degrees)\n",
    "expanded_expression\n"
   ]
  },
  {
   "cell_type": "code",
   "execution_count": 57,
   "metadata": {},
   "outputs": [
    {
     "data": {
      "text/latex": [
       "$\\displaystyle \\sin{\\left(\\frac{\\pi}{4} \\right)}$"
      ],
      "text/plain": [
       "sin(pi/4)"
      ]
     },
     "execution_count": 57,
     "metadata": {},
     "output_type": "execute_result"
    }
   ],
   "source": [
    "from sympy import sin, symbols\n",
    "from sympy import *\n",
    "x, pi = symbols('x, pi')\n",
    "function = sin(pi/4+x)\n",
    "diff_1 = diff(function, x)\n",
    "diff_2 = diff(diff_1, x)\n",
    "diff_3 = diff(diff_2, x)\n",
    "diff_4 = diff(diff_3, x)\n",
    "function.subs(x,0)\n",
    "diff_4.subs(x,0)"
   ]
  },
  {
   "cell_type": "code",
   "execution_count": 59,
   "metadata": {},
   "outputs": [
    {
     "name": "stdout",
     "output_type": "stream",
     "text": [
      "Series expansion of atan(x) in terms of (x-1):\n"
     ]
    },
    {
     "data": {
      "text/latex": [
       "$\\displaystyle \\operatorname{atan}{\\left(x \\right)}$"
      ],
      "text/plain": [
       "atan(x)"
      ]
     },
     "execution_count": 59,
     "metadata": {},
     "output_type": "execute_result"
    }
   ],
   "source": [
    "from sympy import atan, symbols\n",
    "\n",
    "x = symbols('x')\n",
    "series_expansion = atan(x).series(x-1, 0, 4)  # Series expansion up to the 4th power of (x-1)\n",
    "\n",
    "print(\"Series expansion of atan(x) in terms of (x-1):\")\n",
    "series_expansion\n"
   ]
  },
  {
   "cell_type": "code",
   "execution_count": 74,
   "metadata": {},
   "outputs": [
    {
     "data": {
      "text/latex": [
       "$\\displaystyle \\frac{16}{3003}$"
      ],
      "text/plain": [
       "16/3003"
      ]
     },
     "execution_count": 74,
     "metadata": {},
     "output_type": "execute_result"
    }
   ],
   "source": [
    "from sympy import symbols, exp, integrate, oo, log, sin, cos\n",
    "from sympy import *\n",
    "x, theta = symbols('x, theta')\n",
    "I = 1/(exp(x)+exp(-x))\n",
    "integrate(I, (x, 0, oo))\n",
    "a = (-1)**oo\n",
    "function = x**4*log(x)**4\n",
    "integrate(function, x)\n",
    "dunction = sin(theta)**6*cos(theta)**7\n",
    "integrate(dunction, (theta,0,pi/2))"
   ]
  },
  {
   "cell_type": "code",
   "execution_count": 92,
   "metadata": {},
   "outputs": [
    {
     "data": {
      "text/latex": [
       "$\\displaystyle - \\frac{\\sqrt{2}}{2}$"
      ],
      "text/plain": [
       "-sqrt(2)/2"
      ]
     },
     "execution_count": 92,
     "metadata": {},
     "output_type": "execute_result"
    }
   ],
   "source": [
    "from sympy import diff, symbols, log, tan, exp, sin, csc, integrate, asin, acos, atan, sinh, ln, sqrt, simplify\n",
    "from sympy import *\n",
    "x, a = symbols(\"x, a\")\n",
    "f = ((x**2+a**2)/(x+a))**2\n",
    "diff(f, a)\n",
    "g = log(tan(exp(-x**2)))\n",
    "diff(g, x)\n",
    "h = (sin(x)+csc(x))**2\n",
    "integrate(h, x)\n",
    "v = sin(x)**2\n",
    "integrate(v, x)\n",
    "l = sin(x)*csc(x)\n",
    "integrate(l, x)\n",
    "v = sin(3*x)/sin(x)\n",
    "integrate(v, x)\n",
    "e = exp(asin(x)+acos(x))\n",
    "integrate(e, (x, 0, 1))\n",
    "h = tan(x)*sin(x*cos(x))\n",
    "diff(diff(h, x))\n",
    "f = 1/(1+x**2)\n",
    "a = diff(f)\n",
    "a.subs(x,0)\n",
    "b = diff(diff(diff(diff(f))))\n",
    "b.subs(x,0)\n",
    "diff(diff(atan(x)))\n",
    "diff(sinh(x))\n",
    "f = diff(diff(diff(diff(exp(x)*sinh(x)))))\n",
    "f.subs(x,0)\n",
    "f = diff(diff(diff(diff(exp(x)*ln(1+x)))))\n",
    "f.subs(x,0)\n",
    "f = diff(diff(diff(diff(diff(atan((x*(3-4*x**2)/(sqrt(1-x**2)*(1-4*x**2)))))))))\n",
    "f.subs(x,0)\n",
    "f = diff(diff(diff(diff(x**4-x**3+x**2-x+1))))\n",
    "f.subs(x,-1)\n",
    "f = diff(diff(diff(sin(pi/4+x))))\n",
    "f.subs(x,0)"
   ]
  },
  {
   "cell_type": "code",
   "execution_count": 22,
   "metadata": {},
   "outputs": [
    {
     "data": {
      "image/png": "[encoded data removed]",
      "text/plain": [
       "<Figure size 800x600 with 1 Axes>"
      ]
     },
     "metadata": {},
     "output_type": "display_data"
    }
   ],
   "source": [
    "import numpy as np\n",
    "import matplotlib.pyplot as plt\n",
    "import matplotlib.patches as patches\n",
    "\n",
    "# Define the function\n",
    "def f(x):\n",
    "    return 2*x**2 + 1\n",
    "\n",
    "# Create an array of x values\n",
    "x = np.linspace(0, 1, 100)\n",
    "\n",
    "# Create an array of corresponding y values using the function\n",
    "y = f(x)\n",
    "\n",
    "# Create the plot\n",
    "plt.figure(figsize=(8, 6))\n",
    "plt.plot(x, y, label='$f(x) = 2x^2 + 1$')\n",
    "plt.fill_between(x, y, color='skyblue', alpha=0.4, label='Area under curve')\n",
    "\n",
    "# Add labels and title\n",
    "plt.xlabel('x')\n",
    "plt.ylabel('f(x)')\n",
    "plt.title('Graph of $f(x) = 2x^2 + 1$ and Area under the Curve')\n",
    "plt.legend()\n",
    "\n",
    "# Show the plot\n",
    "plt.grid()\n",
    "plt.show()\n"
   ]
  },
  {
   "cell_type": "code",
   "execution_count": 24,
   "metadata": {},
   "outputs": [
    {
     "name": "stdout",
     "output_type": "stream",
     "text": [
      "-0.26237485370392877\n",
      "17.545715064260044\n"
     ]
    }
   ],
   "source": [
    "import math\n",
    "def func(a):\n",
    "    p = math.sin(a)\n",
    "    print(p)\n",
    "    return \n",
    "func(50)\n",
    "total = 0\n",
    "for i in range(100000):\n",
    "    happy = math.sin(i**2)*math.cos(2*i+567)\n",
    "    total += happy\n",
    "print(total)    "
   ]
  },
  {
   "cell_type": "code",
   "execution_count": 1,
   "metadata": {},
   "outputs": [
    {
     "name": "stdout",
     "output_type": "stream",
     "text": [
      "[*********************100%%**********************]  1 of 1 completed\n",
      "Mean Squared Error: 86.56860287770775\n",
      "       Date  Actual Price  Predicted Price  Residuals\n",
      "142  738609    162.360001       163.299817  -0.939816\n",
      "6    738412    155.309998       133.534834  21.775163\n",
      "97   738545    141.860001       153.629975 -11.769974\n",
      "60   738489    148.029999       145.168863   2.861136\n",
      "112  738566    155.330002       156.802892  -1.472890\n",
      "181  738665    172.990005       171.760928   1.229077\n",
      "197  738691    185.009995       175.689302   9.320693\n",
      "184  738671    177.250000       172.667476   4.582524\n",
      "9    738417    154.479996       134.290291  20.189705\n",
      "104  738554    154.500000       154.989796  -0.489796\n",
      "200  738694    186.679993       176.142576  10.537417\n",
      "216  738719    193.729996       179.919858  13.810138\n",
      "236  738747    177.449997       184.150413  -6.700417\n",
      "240  738753    175.839996       185.056961  -9.216965\n",
      "67   738498    142.160004       146.528685  -4.368681\n",
      "224  738729    195.830002       181.430770  14.399231\n",
      "194  738685    183.949997       174.782754   9.167243\n",
      "15   738425    151.759995       135.499021  16.260973\n",
      "177  738659    175.160004       170.854381   4.305623\n",
      "24   738438    140.419998       137.463208   2.956791\n",
      "247  738762    187.649994       186.416783   1.233211\n",
      "19   738431    142.449997       136.405569   6.044428\n",
      "114  738568    152.550003       157.105074  -4.555071\n",
      "68   738501    144.490005       146.981958  -2.491953\n",
      "176  738658    175.050003       170.703289   4.346714\n",
      "45   738467    139.500000       141.844855  -2.344855\n",
      "55   738481    150.179993       143.960133   6.219860\n",
      "10   738418    156.899994       134.441382  22.458612\n",
      "30   738446    143.750000       138.671938   5.078062\n",
      "120  738579    147.410004       158.767078 -11.357075\n",
      "201  738697    185.270004       176.595849   8.674155\n",
      "33   738449    147.270004       139.125212   8.144793\n",
      "141  738608    160.770004       163.148725  -2.378721\n",
      "219  738722    191.940002       180.373131  11.566871\n",
      "25   738439    138.979996       137.614299   1.365697\n",
      "111  738565    153.199997       156.651800  -3.451803\n",
      "18   738428    138.199997       135.952295   2.247702\n",
      "196  738687    184.919998       175.084937   9.835062\n",
      "180  738664    171.839996       171.609837   0.230159\n",
      "159  738635    163.770004       167.228190  -3.458186\n",
      "118  738575    146.710007       158.162713 -11.452706\n",
      "96   738544    142.529999       153.478883 -10.948885\n",
      "108  738560    150.869995       155.896344  -5.026349\n",
      "185  738672    180.089996       172.818567   7.271429\n",
      "222  738727    194.500000       181.128588  13.371412\n",
      "16   738426    149.839996       135.650112  14.189884\n",
      "146  738615    163.759995       164.206364  -0.446370\n",
      "69   738502    145.470001       147.133050  -1.663048\n",
      "173  738655    172.070007       170.250016   1.819992\n",
      "38   738456    155.740005       140.182851  15.557155\n"
     ]
    },
    {
     "data": {
      "image/png": "[encoded data removed]",
      "text/plain": [
       "<Figure size 1200x600 with 1 Axes>"
      ]
     },
     "metadata": {},
     "output_type": "display_data"
    }
   ],
   "source": [
    "import yfinance as yf\n",
    "import numpy as np\n",
    "import pandas as pd\n",
    "import matplotlib.pyplot as plt\n",
    "from sklearn.model_selection import train_test_split\n",
    "from sklearn.linear_model import LinearRegression\n",
    "from sklearn.metrics import mean_squared_error\n",
    "\n",
    "# Define the period for historical data\n",
    "start_date = '2022-09-04'\n",
    "end_date = '2023-09-04'\n",
    "\n",
    "# Fetch Apple stock data using yfinance\n",
    "apple_data = yf.download('AAPL', start=start_date, end=end_date)\n",
    "\n",
    "# Prepare the data\n",
    "apple_data['Date'] = apple_data.index\n",
    "apple_data.reset_index(drop=True, inplace=True)\n",
    "apple_data['Date'] = apple_data['Date'].apply(lambda x: x.toordinal())\n",
    "\n",
    "# Use the 'Close' prices as the target variable\n",
    "y = apple_data['Close']\n",
    "\n",
    "# Use the 'Date' as the feature for prediction\n",
    "X = apple_data[['Date']]\n",
    "\n",
    "# Split the data into training and testing sets\n",
    "X_train, X_test, y_train, y_test = train_test_split(X, y, test_size=0.2, random_state=42)\n",
    "\n",
    "# Create and train a linear regression model\n",
    "model = LinearRegression()\n",
    "model.fit(X_train, y_train)\n",
    "\n",
    "# Predict stock prices\n",
    "y_pred = model.predict(X_test)\n",
    "\n",
    "# Calculate the Mean Squared Error (MSE) to evaluate the model\n",
    "mse = mean_squared_error(y_test, y_pred)\n",
    "print(f\"Mean Squared Error: {mse}\")\n",
    "\n",
    "# Calculate the residuals (differences between actual and predicted prices)\n",
    "residuals = y_test - y_pred\n",
    "\n",
    "# Create a DataFrame to display the data\n",
    "results_df = pd.DataFrame({'Date': X_test['Date'], 'Actual Price': y_test, 'Predicted Price': y_pred, 'Residuals': residuals})\n",
    "\n",
    "# Create a beautiful chart to visualize the results\n",
    "plt.figure(figsize=(12, 6))\n",
    "plt.scatter(X_test, y_test, color='blue', label='Actual Prices', alpha=0.6)\n",
    "plt.plot(X_test, y_pred, color='red', linewidth=2, label='Predicted Prices')\n",
    "plt.title('Apple Stock Price Prediction')\n",
    "plt.xlabel('Date (Ordinal)')\n",
    "plt.ylabel('Stock Price (USD)')\n",
    "plt.legend()\n",
    "plt.grid(True)\n",
    "\n",
    "# Add residual sticks (vertical lines)\n",
    "for i in range(len(X_test)):\n",
    "    plt.vlines(X_test.iloc[i], y_test.iloc[i], y_test.iloc[i] - residuals.iloc[i], color='green', alpha=0.6)\n",
    "\n",
    "# Display the table\n",
    "print(results_df)\n",
    "plt.show()\n"
   ]
  },
  {
   "cell_type": "code",
   "execution_count": 2,
   "metadata": {},
   "outputs": [
    {
     "name": "stdout",
     "output_type": "stream",
     "text": [
      "[1.0, 11.0, 1.0, 223.0, 13.3, 12.29, 18.2, 2.302, 0.18, 2.3]\n"
     ]
    }
   ],
   "source": [
    "a = []\n",
    "input_a = int(input(\"Enter the no. of data points to enter: \"))\n",
    "\n",
    "for i in range(input_a):\n",
    "    input_a_individual = float(input(f\"Enter data point{i+1}: \"))\n",
    "    a.append(input_a_individual)\n",
    "\n",
    "print(a)"
   ]
  },
  {
   "cell_type": "code",
   "execution_count": 20,
   "metadata": {},
   "outputs": [
    {
     "name": "stdout",
     "output_type": "stream",
     "text": [
      "Even numbers: 5\n",
      "Odd numbers: 5\n"
     ]
    }
   ],
   "source": [
    "def count_even_odd_in_range(start, end):\n",
    "    even_count = 0\n",
    "    odd_count = 0\n",
    "    for number in range(start, end + 1):\n",
    "        if number % 2 == 0:\n",
    "            even_count += 1\n",
    "        else:\n",
    "            odd_count += 1\n",
    "\n",
    "    return even_count, odd_count\n",
    "\n",
    "# Input: Starting and ending range\n",
    "start_range = int(input(\"Enter the starting range: \"))\n",
    "end_range = int(input(\"Enter the ending range: \"))\n",
    "\n",
    "even_count, odd_count = count_even_odd_in_range(start_range, end_range)\n",
    "\n",
    "print(f\"Even numbers: {even_count}\")\n",
    "print(f\"Odd numbers: {odd_count}\")\n"
   ]
  },
  {
   "cell_type": "code",
   "execution_count": 40,
   "metadata": {},
   "outputs": [
    {
     "name": "stdout",
     "output_type": "stream",
     "text": [
      "Your array is:  [1.0, 2.0, 3.0, 4.0]\n",
      "1.0 is odd\n",
      "2.0 is even\n",
      "3.0 is odd\n",
      "4.0 is even\n"
     ]
    },
    {
     "data": {
      "image/png": "[encoded data removed]",
      "text/plain": [
       "<Figure size 300x600 with 1 Axes>"
      ]
     },
     "metadata": {},
     "output_type": "display_data"
    }
   ],
   "source": [
    "import math\n",
    "import matplotlib.pyplot as plt\n",
    "import numpy as np\n",
    "a = []\n",
    "input_a = int(input(\"Enter the total no. of data points to enter: \"))\n",
    "for i in range(input_a):\n",
    "    individual_a = float(input(f\"Enter data point {i+1}: \"))\n",
    "    a.append(individual_a)\n",
    "\n",
    "print(\"Your array is: \", a)\n",
    "\n",
    "def odd_even(number):\n",
    "    if number % 2 == 0:\n",
    "        return f\"{number} is even\"\n",
    "    else:\n",
    "        return f\"{number} is odd\"\n",
    "\n",
    "\n",
    "for i in (a):\n",
    "    print(odd_even(i))\n",
    "\n",
    "x = list(range(1, input_a+1))\n",
    "y = np.array(a)\n",
    "\n",
    "plt.figure(figsize=(3,6))\n",
    "plt.plot(x, y, marker=\"o\")\n",
    "plt.xlabel(\"\")\n",
    "plt.ylabel(\"\")\n",
    "plt.legend(\"\")\n",
    "plt.grid()\n",
    "plt.show()"
   ]
  },
  {
   "cell_type": "code",
   "execution_count": 4,
   "metadata": {},
   "outputs": [
    {
     "name": "stdout",
     "output_type": "stream",
     "text": [
      "10\n"
     ]
    }
   ],
   "source": [
    "def f(x):\n",
    "    def g(x):\n",
    "        return x + 3\n",
    "    return 2 * g(x)\n",
    "print(f(2))"
   ]
  },
  {
   "cell_type": "code",
   "execution_count": 23,
   "metadata": {},
   "outputs": [
    {
     "data": {
      "image/png": "[encoded data removed]",
      "text/plain": [
       "<Figure size 640x480 with 1 Axes>"
      ]
     },
     "metadata": {},
     "output_type": "display_data"
    },
    {
     "data": {
      "text/plain": [
       "51"
      ]
     },
     "execution_count": 23,
     "metadata": {},
     "output_type": "execute_result"
    }
   ],
   "source": [
    "import matplotlib.pyplot as plt\n",
    "import statistics\n",
    "import numpy as np\n",
    "\n",
    "x = np.array([\"Vatsal\", \"Yug\", \"Shubh\", \"Dhanak\", \"Rudra\", \"Arham\", \"Arindham\"])\n",
    "y = np.array([76, 38, 72, 23, 68, 45, 35])\n",
    "\n",
    "plt.bar(x, height=y, width=0.8, bottom=None, align='center', color=\"#863939\")\n",
    "plt.title(\"Math Marks\")\n",
    "plt.show()\n",
    "\n",
    "statistics.mean(y)"
   ]
  },
  {
   "cell_type": "code",
   "execution_count": 54,
   "metadata": {},
   "outputs": [
    {
     "ename": "ValueError",
     "evalue": "shape mismatch: objects cannot be broadcast to a single shape.  Mismatch is between arg 0 with shape (3,) and arg 1 with shape (4,).",
     "output_type": "error",
     "traceback": [
      "\u001b[0;31m---------------------------------------------------------------------------\u001b[0m",
      "\u001b[0;31mValueError\u001b[0m                                Traceback (most recent call last)",
      "Cell \u001b[0;32mIn[54], line 11\u001b[0m\n\u001b[1;32m      8\u001b[0m bar_labels \u001b[39m=\u001b[39m np\u001b[39m.\u001b[39marray([\u001b[39m\"\u001b[39m\u001b[39mred\u001b[39m\u001b[39m\"\u001b[39m, \u001b[39m\"\u001b[39m\u001b[39mblue\u001b[39m\u001b[39m\"\u001b[39m, \u001b[39m\"\u001b[39m\u001b[39mred\u001b[39m\u001b[39m\"\u001b[39m, \u001b[39m\"\u001b[39m\u001b[39morange\u001b[39m\u001b[39m\"\u001b[39m])\n\u001b[1;32m      9\u001b[0m bar_colors \u001b[39m=\u001b[39m np\u001b[39m.\u001b[39marray([\u001b[39m\"\u001b[39m\u001b[39mred\u001b[39m\u001b[39m\"\u001b[39m, \u001b[39m\"\u001b[39m\u001b[39mblue\u001b[39m\u001b[39m\"\u001b[39m, \u001b[39m\"\u001b[39m\u001b[39mred\u001b[39m\u001b[39m\"\u001b[39m, \u001b[39m\"\u001b[39m\u001b[39morange\u001b[39m\u001b[39m\"\u001b[39m])\n\u001b[0;32m---> 11\u001b[0m plt\u001b[39m.\u001b[39;49mbar(x, height\u001b[39m=\u001b[39;49my, width\u001b[39m=\u001b[39;49m\u001b[39m0.8\u001b[39;49m, label\u001b[39m=\u001b[39;49mbar_labels, color\u001b[39m=\u001b[39;49mbar_colors)\n\u001b[1;32m     12\u001b[0m plt\u001b[39m.\u001b[39mylabel(\u001b[39m\"\u001b[39m\u001b[39mfruit supply\u001b[39m\u001b[39m\"\u001b[39m)\n\u001b[1;32m     13\u001b[0m plt\u001b[39m.\u001b[39mtitle(\u001b[39m\"\u001b[39m\u001b[39mFruit supply by kind and colour\u001b[39m\u001b[39m\"\u001b[39m)\n",
      "File \u001b[0;32m/opt/homebrew/lib/python3.11/site-packages/matplotlib/pyplot.py:2439\u001b[0m, in \u001b[0;36mbar\u001b[0;34m(x, height, width, bottom, align, data, **kwargs)\u001b[0m\n\u001b[1;32m   2435\u001b[0m \u001b[39m@_copy_docstring_and_deprecators\u001b[39m(Axes\u001b[39m.\u001b[39mbar)\n\u001b[1;32m   2436\u001b[0m \u001b[39mdef\u001b[39;00m \u001b[39mbar\u001b[39m(\n\u001b[1;32m   2437\u001b[0m         x, height, width\u001b[39m=\u001b[39m\u001b[39m0.8\u001b[39m, bottom\u001b[39m=\u001b[39m\u001b[39mNone\u001b[39;00m, \u001b[39m*\u001b[39m, align\u001b[39m=\u001b[39m\u001b[39m'\u001b[39m\u001b[39mcenter\u001b[39m\u001b[39m'\u001b[39m,\n\u001b[1;32m   2438\u001b[0m         data\u001b[39m=\u001b[39m\u001b[39mNone\u001b[39;00m, \u001b[39m*\u001b[39m\u001b[39m*\u001b[39mkwargs):\n\u001b[0;32m-> 2439\u001b[0m     \u001b[39mreturn\u001b[39;00m gca()\u001b[39m.\u001b[39;49mbar(\n\u001b[1;32m   2440\u001b[0m         x, height, width\u001b[39m=\u001b[39;49mwidth, bottom\u001b[39m=\u001b[39;49mbottom, align\u001b[39m=\u001b[39;49malign,\n\u001b[1;32m   2441\u001b[0m         \u001b[39m*\u001b[39;49m\u001b[39m*\u001b[39;49m({\u001b[39m\"\u001b[39;49m\u001b[39mdata\u001b[39;49m\u001b[39m\"\u001b[39;49m: data} \u001b[39mif\u001b[39;49;00m data \u001b[39mis\u001b[39;49;00m \u001b[39mnot\u001b[39;49;00m \u001b[39mNone\u001b[39;49;00m \u001b[39melse\u001b[39;49;00m {}), \u001b[39m*\u001b[39;49m\u001b[39m*\u001b[39;49mkwargs)\n",
      "File \u001b[0;32m/opt/homebrew/lib/python3.11/site-packages/matplotlib/__init__.py:1446\u001b[0m, in \u001b[0;36m_preprocess_data.<locals>.inner\u001b[0;34m(ax, data, *args, **kwargs)\u001b[0m\n\u001b[1;32m   1443\u001b[0m \u001b[39m@functools\u001b[39m\u001b[39m.\u001b[39mwraps(func)\n\u001b[1;32m   1444\u001b[0m \u001b[39mdef\u001b[39;00m \u001b[39minner\u001b[39m(ax, \u001b[39m*\u001b[39margs, data\u001b[39m=\u001b[39m\u001b[39mNone\u001b[39;00m, \u001b[39m*\u001b[39m\u001b[39m*\u001b[39mkwargs):\n\u001b[1;32m   1445\u001b[0m     \u001b[39mif\u001b[39;00m data \u001b[39mis\u001b[39;00m \u001b[39mNone\u001b[39;00m:\n\u001b[0;32m-> 1446\u001b[0m         \u001b[39mreturn\u001b[39;00m func(ax, \u001b[39m*\u001b[39;49m\u001b[39mmap\u001b[39;49m(sanitize_sequence, args), \u001b[39m*\u001b[39;49m\u001b[39m*\u001b[39;49mkwargs)\n\u001b[1;32m   1448\u001b[0m     bound \u001b[39m=\u001b[39m new_sig\u001b[39m.\u001b[39mbind(ax, \u001b[39m*\u001b[39margs, \u001b[39m*\u001b[39m\u001b[39m*\u001b[39mkwargs)\n\u001b[1;32m   1449\u001b[0m     auto_label \u001b[39m=\u001b[39m (bound\u001b[39m.\u001b[39marguments\u001b[39m.\u001b[39mget(label_namer)\n\u001b[1;32m   1450\u001b[0m                   \u001b[39mor\u001b[39;00m bound\u001b[39m.\u001b[39mkwargs\u001b[39m.\u001b[39mget(label_namer))\n",
      "File \u001b[0;32m/opt/homebrew/lib/python3.11/site-packages/matplotlib/axes/_axes.py:2409\u001b[0m, in \u001b[0;36mAxes.bar\u001b[0;34m(self, x, height, width, bottom, align, **kwargs)\u001b[0m\n\u001b[1;32m   2406\u001b[0m     \u001b[39mif\u001b[39;00m yerr \u001b[39mis\u001b[39;00m \u001b[39mnot\u001b[39;00m \u001b[39mNone\u001b[39;00m:\n\u001b[1;32m   2407\u001b[0m         yerr \u001b[39m=\u001b[39m \u001b[39mself\u001b[39m\u001b[39m.\u001b[39m_convert_dx(yerr, y0, y, \u001b[39mself\u001b[39m\u001b[39m.\u001b[39mconvert_yunits)\n\u001b[0;32m-> 2409\u001b[0m x, height, width, y, linewidth, hatch \u001b[39m=\u001b[39m np\u001b[39m.\u001b[39;49mbroadcast_arrays(\n\u001b[1;32m   2410\u001b[0m     \u001b[39m# Make args iterable too.\u001b[39;49;00m\n\u001b[1;32m   2411\u001b[0m     np\u001b[39m.\u001b[39;49matleast_1d(x), height, width, y, linewidth, hatch)\n\u001b[1;32m   2413\u001b[0m \u001b[39m# Now that units have been converted, set the tick locations.\u001b[39;00m\n\u001b[1;32m   2414\u001b[0m \u001b[39mif\u001b[39;00m orientation \u001b[39m==\u001b[39m \u001b[39m'\u001b[39m\u001b[39mvertical\u001b[39m\u001b[39m'\u001b[39m:\n",
      "File \u001b[0;32m/opt/homebrew/lib/python3.11/site-packages/numpy/lib/stride_tricks.py:540\u001b[0m, in \u001b[0;36mbroadcast_arrays\u001b[0;34m(subok, *args)\u001b[0m\n\u001b[1;32m    533\u001b[0m \u001b[39m# nditer is not used here to avoid the limit of 32 arrays.\u001b[39;00m\n\u001b[1;32m    534\u001b[0m \u001b[39m# Otherwise, something like the following one-liner would suffice:\u001b[39;00m\n\u001b[1;32m    535\u001b[0m \u001b[39m# return np.nditer(args, flags=['multi_index', 'zerosize_ok'],\u001b[39;00m\n\u001b[1;32m    536\u001b[0m \u001b[39m#                  order='C').itviews\u001b[39;00m\n\u001b[1;32m    538\u001b[0m args \u001b[39m=\u001b[39m [np\u001b[39m.\u001b[39marray(_m, copy\u001b[39m=\u001b[39m\u001b[39mFalse\u001b[39;00m, subok\u001b[39m=\u001b[39msubok) \u001b[39mfor\u001b[39;00m _m \u001b[39min\u001b[39;00m args]\n\u001b[0;32m--> 540\u001b[0m shape \u001b[39m=\u001b[39m _broadcast_shape(\u001b[39m*\u001b[39;49margs)\n\u001b[1;32m    542\u001b[0m \u001b[39mif\u001b[39;00m \u001b[39mall\u001b[39m(array\u001b[39m.\u001b[39mshape \u001b[39m==\u001b[39m shape \u001b[39mfor\u001b[39;00m array \u001b[39min\u001b[39;00m args):\n\u001b[1;32m    543\u001b[0m     \u001b[39m# Common case where nothing needs to be broadcasted.\u001b[39;00m\n\u001b[1;32m    544\u001b[0m     \u001b[39mreturn\u001b[39;00m args\n",
      "File \u001b[0;32m/opt/homebrew/lib/python3.11/site-packages/numpy/lib/stride_tricks.py:422\u001b[0m, in \u001b[0;36m_broadcast_shape\u001b[0;34m(*args)\u001b[0m\n\u001b[1;32m    417\u001b[0m \u001b[39m\u001b[39m\u001b[39m\"\"\"Returns the shape of the arrays that would result from broadcasting the\u001b[39;00m\n\u001b[1;32m    418\u001b[0m \u001b[39msupplied arrays against each other.\u001b[39;00m\n\u001b[1;32m    419\u001b[0m \u001b[39m\"\"\"\u001b[39;00m\n\u001b[1;32m    420\u001b[0m \u001b[39m# use the old-iterator because np.nditer does not handle size 0 arrays\u001b[39;00m\n\u001b[1;32m    421\u001b[0m \u001b[39m# consistently\u001b[39;00m\n\u001b[0;32m--> 422\u001b[0m b \u001b[39m=\u001b[39m np\u001b[39m.\u001b[39;49mbroadcast(\u001b[39m*\u001b[39;49margs[:\u001b[39m32\u001b[39;49m])\n\u001b[1;32m    423\u001b[0m \u001b[39m# unfortunately, it cannot handle 32 or more arguments directly\u001b[39;00m\n\u001b[1;32m    424\u001b[0m \u001b[39mfor\u001b[39;00m pos \u001b[39min\u001b[39;00m \u001b[39mrange\u001b[39m(\u001b[39m32\u001b[39m, \u001b[39mlen\u001b[39m(args), \u001b[39m31\u001b[39m):\n\u001b[1;32m    425\u001b[0m     \u001b[39m# ironically, np.broadcast does not properly handle np.broadcast\u001b[39;00m\n\u001b[1;32m    426\u001b[0m     \u001b[39m# objects (it treats them as scalars)\u001b[39;00m\n\u001b[1;32m    427\u001b[0m     \u001b[39m# use broadcasting to avoid allocating the full array\u001b[39;00m\n",
      "\u001b[0;31mValueError\u001b[0m: shape mismatch: objects cannot be broadcast to a single shape.  Mismatch is between arg 0 with shape (3,) and arg 1 with shape (4,)."
     ]
    },
    {
     "data": {
      "image/png": "[encoded data removed]",
      "text/plain": [
       "<Figure size 640x480 with 1 Axes>"
      ]
     },
     "metadata": {},
     "output_type": "display_data"
    }
   ],
   "source": [
    "import matplotlib.pyplot as plt \n",
    "import numpy as np \n",
    "\n",
    "fig, ax = plt.subplots()\n",
    "\n",
    "x = np.array([\"apple, blueberry\", \"cherry\", \"orange\"])\n",
    "y = np.array([40, 100, 30, 55])\n",
    "bar_labels = np.array([\"red\", \"blue\", \"red\", \"orange\"])\n",
    "bar_colors = np.array([\"red\", \"blue\", \"red\", \"orange\"])\n",
    "\n",
    "plt.bar(x, height=y, width=0.8, label=bar_labels, color=bar_colors)\n",
    "plt.ylabel(\"fruit supply\")\n",
    "plt.title(\"Fruit supply by kind and colour\")\n",
    "plt.legend()\n",
    "\n",
    "plt.show()"
   ]
  },
  {
   "cell_type": "code",
   "execution_count": 25,
   "metadata": {},
   "outputs": [
    {
     "ename": "TypeError",
     "evalue": "'int' object is not callable",
     "output_type": "error",
     "traceback": [
      "\u001b[0;31m---------------------------------------------------------------------------\u001b[0m",
      "\u001b[0;31mTypeError\u001b[0m                                 Traceback (most recent call last)",
      "Cell \u001b[0;32mIn[25], line 4\u001b[0m\n\u001b[1;32m      2\u001b[0m \u001b[39mdef\u001b[39;00m \u001b[39mfunc\u001b[39m(n):\n\u001b[1;32m      3\u001b[0m     \u001b[39mreturn\u001b[39;00m (\u001b[39m4\u001b[39m\u001b[39m*\u001b[39m\u001b[39m*\u001b[39mn\u001b[39m*\u001b[39mmath\u001b[39m.\u001b[39mfactorial(n\u001b[39m+\u001b[39m\u001b[39m1\u001b[39m))\u001b[39m/\u001b[39mn\u001b[39m*\u001b[39m\u001b[39m*\u001b[39m(n\u001b[39m+\u001b[39m\u001b[39m1\u001b[39m)\n\u001b[0;32m----> 4\u001b[0m input_n \u001b[39m=\u001b[39m \u001b[39mint\u001b[39m(\u001b[39minput\u001b[39;49m(\u001b[39m\"\u001b[39;49m\u001b[39mEnter the value of n: \u001b[39;49m\u001b[39m\"\u001b[39;49m))\n\u001b[1;32m      5\u001b[0m result \u001b[39m=\u001b[39m func(input_n) \n\u001b[1;32m      6\u001b[0m \u001b[39mprint\u001b[39m(result)\n",
      "\u001b[0;31mTypeError\u001b[0m: 'int' object is not callable"
     ]
    }
   ],
   "source": [
    "import math\n",
    "def func(n):\n",
    "    return (4**n*math.factorial(n+1))/n**(n+1)\n",
    "input_n = int(input(\"Enter the value of n: \"))\n",
    "result = func(input_n) \n",
    "print(result)"
   ]
  },
  {
   "cell_type": "code",
   "execution_count": 28,
   "metadata": {},
   "outputs": [
    {
     "name": "stdout",
     "output_type": "stream",
     "text": [
      "[*********************100%%**********************]  1 of 1 completed\n",
      "                 Close     SMA50     SMA200 Signal\n",
      "Date                                              \n",
      "2022-09-08  154.460007       NaN        NaN   Hold\n",
      "2022-09-09  157.369995       NaN        NaN   Hold\n",
      "2022-09-12  163.429993       NaN        NaN   Hold\n",
      "2022-09-13  153.839996       NaN        NaN   Hold\n",
      "2022-09-14  155.309998       NaN        NaN   Hold\n",
      "...                ...       ...        ...    ...\n",
      "2023-08-31  187.869995  186.6596  163.20085    Buy\n",
      "2023-09-01  189.460007  186.7088  163.40675    Buy\n",
      "2023-09-05  189.699997  186.7692  163.60505    Buy\n",
      "2023-09-06  182.910004  186.7220  163.77565    Buy\n",
      "2023-09-07  177.559998  186.5120  163.90985    Buy\n",
      "\n",
      "[251 rows x 4 columns]\n"
     ]
    },
    {
     "data": {
      "image/png": "[encoded data removed]",
      "text/plain": [
       "<Figure size 1200x600 with 1 Axes>"
      ]
     },
     "metadata": {},
     "output_type": "display_data"
    }
   ],
   "source": [
    "import yfinance as yf\n",
    "import matplotlib.pyplot as plt\n",
    "\n",
    "def moving_average_crossover(symbol):\n",
    "    # Download historical data for 1 year\n",
    "    stock_data = yf.download(symbol, period=\"1y\")\n",
    "\n",
    "    # Calculate short-term (50-day) and long-term (200-day) moving averages\n",
    "    stock_data['SMA50'] = stock_data['Close'].rolling(window=50).mean()\n",
    "    stock_data['SMA200'] = stock_data['Close'].rolling(window=200).mean()\n",
    "\n",
    "    # Initialize signals as \"Hold\" (no action)\n",
    "    stock_data['Signal'] = \"Hold\"\n",
    "\n",
    "    # Generate buy and sell signals based on moving average crossover\n",
    "    stock_data.loc[stock_data['SMA50'] > stock_data['SMA200'], 'Signal'] = \"Buy\"\n",
    "    stock_data.loc[stock_data['SMA50'] < stock_data['SMA200'], 'Signal'] = \"Sell\"\n",
    "\n",
    "    return stock_data\n",
    "\n",
    "symbol = \"AAPL\"  # Example: Apple Inc.\n",
    "signals = moving_average_crossover(symbol)\n",
    "\n",
    "# Print the buy and sell signals\n",
    "print(signals[['Close', 'SMA50', 'SMA200', 'Signal']])\n",
    "\n",
    "# Plot the closing price and moving averages\n",
    "plt.figure(figsize=(12, 6))\n",
    "plt.plot(signals.index, signals['Close'], label='Close Price', alpha=0.7)\n",
    "plt.plot(signals.index, signals['SMA50'], label='50-day SMA', alpha=0.7)\n",
    "plt.plot(signals.index, signals['SMA200'], label='200-day SMA', alpha=0.7)\n",
    "plt.title(f\"{symbol} Moving Average Crossover\")\n",
    "plt.xlabel(\"Date\")\n",
    "plt.ylabel(\"Price\")\n",
    "plt.legend()\n",
    "plt.grid()\n",
    "plt.show()\n"
   ]
  },
  {
   "cell_type": "code",
   "execution_count": 2,
   "metadata": {},
   "outputs": [
    {
     "data": {
      "image/png": "[encoded data removed]",
      "text/plain": [
       "<Figure size 640x480 with 1 Axes>"
      ]
     },
     "metadata": {},
     "output_type": "display_data"
    }
   ],
   "source": [
    "from sympy import sin, cos, symbols, integrate, oo, tan, cosh, plot\n",
    "from sympy import * \n",
    "x = symbols(\"x\")\n",
    "f = (sin(x)+cos(x))/x**2\n",
    "integrate(f, (x, 1, oo))\n",
    "g = ((sin(x**2)+cos(x**3))/tan(15*x))/(cosh(3*x))\n",
    "integrate(f, x)\n",
    "p1 = plot(f, show=False)\n",
    "p1.show()"
   ]
  },
  {
   "cell_type": "code",
   "execution_count": 1,
   "metadata": {},
   "outputs": [
    {
     "name": "stdout",
     "output_type": "stream",
     "text": [
      "[*********************100%%**********************]  1 of 1 completed\n"
     ]
    },
    {
     "data": {
      "image/png": "[encoded data removed]",
      "text/plain": [
       "<Figure size 1200x600 with 1 Axes>"
      ]
     },
     "metadata": {},
     "output_type": "display_data"
    },
    {
     "data": {
      "text/html": [
       "<div>\n",
       "<style scoped>\n",
       "    .dataframe tbody tr th:only-of-type {\n",
       "        vertical-align: middle;\n",
       "    }\n",
       "\n",
       "    .dataframe tbody tr th {\n",
       "        vertical-align: top;\n",
       "    }\n",
       "\n",
       "    .dataframe thead th {\n",
       "        text-align: right;\n",
       "    }\n",
       "</style>\n",
       "<table border=\"1\" class=\"dataframe\">\n",
       "  <thead>\n",
       "    <tr style=\"text-align: right;\">\n",
       "      <th></th>\n",
       "      <th>1</th>\n",
       "      <th>Vatsal</th>\n",
       "      <th>76</th>\n",
       "    </tr>\n",
       "  </thead>\n",
       "  <tbody>\n",
       "    <tr>\n",
       "      <th>0</th>\n",
       "      <td>2</td>\n",
       "      <td>Yug</td>\n",
       "      <td>38</td>\n",
       "    </tr>\n",
       "    <tr>\n",
       "      <th>1</th>\n",
       "      <td>3</td>\n",
       "      <td>Shubh</td>\n",
       "      <td>70</td>\n",
       "    </tr>\n",
       "    <tr>\n",
       "      <th>2</th>\n",
       "      <td>4</td>\n",
       "      <td>Arham</td>\n",
       "      <td>50</td>\n",
       "    </tr>\n",
       "    <tr>\n",
       "      <th>3</th>\n",
       "      <td>5</td>\n",
       "      <td>Rudra</td>\n",
       "      <td>68</td>\n",
       "    </tr>\n",
       "    <tr>\n",
       "      <th>4</th>\n",
       "      <td>6</td>\n",
       "      <td>Dhanak</td>\n",
       "      <td>23</td>\n",
       "    </tr>\n",
       "  </tbody>\n",
       "</table>\n",
       "</div>"
      ],
      "text/plain": [
       "   1   Vatsal   76\n",
       "0  2      Yug   38\n",
       "1  3    Shubh   70\n",
       "2  4    Arham   50\n",
       "3  5    Rudra   68\n",
       "4  6   Dhanak   23"
      ]
     },
     "execution_count": 1,
     "metadata": {},
     "output_type": "execute_result"
    }
   ],
   "source": [
    "import yfinance as yf\n",
    "import numpy as np\n",
    "import matplotlib.pyplot as plt\n",
    "from sklearn.linear_model import LinearRegression\n",
    "from sklearn.model_selection import train_test_split\n",
    "\n",
    "# Define the ticker symbol for Apple\n",
    "ticker_symbol = 'AAPL'\n",
    "\n",
    "# Fetch historical Apple stock price data for the past month\n",
    "apple_data = yf.download(ticker_symbol, period=\"1mo\")\n",
    "\n",
    "# Extract the 'Adj Close' prices and reset the index\n",
    "stock_prices = apple_data['Adj Close'].values.reshape(-1, 1)\n",
    "dates = np.arange(len(stock_prices)).reshape(-1, 1)\n",
    "\n",
    "# Split the data into training and testing sets\n",
    "X_train, X_test, y_train, y_test = train_test_split(dates, stock_prices, test_size=0.2, random_state=42)\n",
    "\n",
    "# Create and train the linear regression model\n",
    "model = LinearRegression()\n",
    "model.fit(X_train, y_train)\n",
    "\n",
    "# Predict the stock prices for the entire month\n",
    "predictions = model.predict(dates)\n",
    "\n",
    "# Create a beautiful data visualization\n",
    "plt.figure(figsize=(12, 6))\n",
    "plt.scatter(dates, stock_prices, color='blue', label='Actual Stock Price')\n",
    "plt.plot(dates, predictions, color='red', linewidth=2, label='Predicted Stock Price')\n",
    "plt.title('Apple Stock Price Linear Regression (1 Month)')\n",
    "plt.xlabel('Days')\n",
    "plt.ylabel('Stock Price (USD)')\n",
    "plt.legend()\n",
    "plt.grid(True)\n",
    "plt.show()\n",
    "import pandas as pd\n",
    "pd.read_csv(\"students.csv\")\n"
   ]
  }
 ],
 "metadata": {
  "kernelspec": {
   "display_name": "Python 3",
   "language": "python",
   "name": "python3"
  },
  "language_info": {
   "codemirror_mode": {
    "name": "ipython",
    "version": 3
   },
   "file_extension": ".py",
   "mimetype": "text/x-python",
   "name": "python",
   "nbconvert_exporter": "python",
   "pygments_lexer": "ipython3",
   "version": "3.11.5"
  },
  "orig_nbformat": 4
 },
 "nbformat": 4,
 "nbformat_minor": 2
}
