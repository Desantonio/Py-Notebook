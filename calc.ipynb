{
 "cells": [
  {
   "cell_type": "code",
   "execution_count": 8,
   "metadata": {},
   "outputs": [
    {
     "name": "stdout",
     "output_type": "stream",
     "text": [
      "1.5146914058482063e+18\n"
     ]
    }
   ],
   "source": [
    "import math\n",
    "def func(n):\n",
    "    return (4**n*math.factorial(n+1))/n**(n+1)\n",
    "input_n = int(input(\"Enter the value of n: \"))\n",
    "print(func(input_n))"
   ]
  },
  {
   "cell_type": "code",
   "execution_count": 30,
   "metadata": {},
   "outputs": [
    {
     "name": "stdout",
     "output_type": "stream",
     "text": [
      "Convergent\n"
     ]
    },
    {
     "data": {
      "text/latex": [
       "$\\displaystyle \\tilde{\\infty}$"
      ],
      "text/plain": [
       "zoo"
      ]
     },
     "execution_count": 30,
     "metadata": {},
     "output_type": "execute_result"
    }
   ],
   "source": [
    "import math\n",
    "from sympy import limit, symbols, factorial, oo, summation, Sum, atan\n",
    "from sympy import *\n",
    "n = symbols('n')\n",
    "function = (5*n**3-3*n)/(n**2*(n-2)*(n**2+5))\n",
    "limit_function = limit(function, n, oo)\n",
    "summation_function = summation(function, (n, 1, 100))\n",
    "sum_function = Sum(function, (n, 1, 5000))\n",
    "if limit_function <= 1:\n",
    "    print(\"Convergent\")\n",
    "else:\n",
    "    print(\"Divergent\")\n",
    "sum_function.doit()"
   ]
  },
  {
   "cell_type": "code",
   "execution_count": 10,
   "metadata": {},
   "outputs": [
    {
     "name": "stdout",
     "output_type": "stream",
     "text": [
      "The series converges to 0.\n"
     ]
    }
   ],
   "source": [
    "import sympy as sp\n",
    "\n",
    "# Define the symbol n as a positive integer\n",
    "n = sp.symbols('n', positive=True, integer=True)\n",
    "\n",
    "# Define the series expression\n",
    "series_expr = (5 * n**3 - 3 * n) / (n**2 * (n - 2) * (n**2 + 5))\n",
    "\n",
    "# Compute the limit as n approaches infinity\n",
    "limit_result = sp.limit(series_expr, n, sp.oo)\n",
    "\n",
    "# Check if the limit is finite\n",
    "if sp.limit(series_expr, n, sp.oo).is_finite:\n",
    "    print(f\"The series converges to {limit_result}.\")\n",
    "else:\n",
    "    print(\"The series diverges.\")\n"
   ]
  },
  {
   "cell_type": "code",
   "execution_count": 50,
   "metadata": {},
   "outputs": [
    {
     "name": "stdout",
     "output_type": "stream",
     "text": [
      "8.391809510411386e-202\n"
     ]
    }
   ],
   "source": [
    "import math\n",
    "def f(n):\n",
    "    return (5*n**3-3*n)/(n**2*(n-2)*(n**2+5))\n",
    "print(f(77189316199991722718999102714882715371099182999999192819200000019281928182819281736451802189172927193))"
   ]
  },
  {
   "cell_type": "code",
   "execution_count": 67,
   "metadata": {},
   "outputs": [
    {
     "name": "stdout",
     "output_type": "stream",
     "text": [
      "Vatsal is Clever\n",
      "Vatsal is Genius\n",
      "Vatsal is Smart\n"
     ]
    },
    {
     "name": "stderr",
     "output_type": "stream",
     "text": [
      "SYMBOL: No data found, symbol may be delisted\n"
     ]
    },
    {
     "ename": "StatisticsError",
     "evalue": "mean requires at least one data point",
     "output_type": "error",
     "traceback": [
      "\u001b[0;31m---------------------------------------------------------------------------\u001b[0m",
      "\u001b[0;31mStatisticsError\u001b[0m                           Traceback (most recent call last)",
      "Cell \u001b[0;32mIn[67], line 21\u001b[0m\n\u001b[1;32m     18\u001b[0m     \u001b[39melse\u001b[39;00m:\n\u001b[1;32m     19\u001b[0m         \u001b[39mprint\u001b[39m(\u001b[39m\"\u001b[39m\u001b[39mSell Signal\u001b[39m\u001b[39m\"\u001b[39m)\n\u001b[0;32m---> 21\u001b[0m stock()\n",
      "Cell \u001b[0;32mIn[67], line 13\u001b[0m, in \u001b[0;36mstock\u001b[0;34m()\u001b[0m\n\u001b[1;32m     11\u001b[0m symbol_history \u001b[39m=\u001b[39m symbol_data\u001b[39m.\u001b[39mhistory(period\u001b[39m=\u001b[39m\u001b[39m\"\u001b[39m\u001b[39m1mo\u001b[39m\u001b[39m\"\u001b[39m)\n\u001b[1;32m     12\u001b[0m close \u001b[39m=\u001b[39m symbol_history[\u001b[39m\"\u001b[39m\u001b[39mClose\u001b[39m\u001b[39m\"\u001b[39m]\n\u001b[0;32m---> 13\u001b[0m mean \u001b[39m=\u001b[39m statistics\u001b[39m.\u001b[39;49mmean(close)\n\u001b[1;32m     14\u001b[0m ten_day \u001b[39m=\u001b[39m mean \u001b[39m/\u001b[39m \u001b[39m10\u001b[39m\n\u001b[1;32m     15\u001b[0m twenty_day \u001b[39m=\u001b[39m mean \u001b[39m/\u001b[39m \u001b[39m20\u001b[39m\n",
      "File \u001b[0;32m/opt/homebrew/Cellar/python@3.11/3.11.5/Frameworks/Python.framework/Versions/3.11/lib/python3.11/statistics.py:432\u001b[0m, in \u001b[0;36mmean\u001b[0;34m(data)\u001b[0m\n\u001b[1;32m    430\u001b[0m T, total, n \u001b[39m=\u001b[39m _sum(data)\n\u001b[1;32m    431\u001b[0m \u001b[39mif\u001b[39;00m n \u001b[39m<\u001b[39m \u001b[39m1\u001b[39m:\n\u001b[0;32m--> 432\u001b[0m     \u001b[39mraise\u001b[39;00m StatisticsError(\u001b[39m'\u001b[39m\u001b[39mmean requires at least one data point\u001b[39m\u001b[39m'\u001b[39m)\n\u001b[1;32m    433\u001b[0m \u001b[39mreturn\u001b[39;00m _convert(total \u001b[39m/\u001b[39m n, T)\n",
      "\u001b[0;31mStatisticsError\u001b[0m: mean requires at least one data point"
     ]
    }
   ],
   "source": [
    "attributes = [\"Clever\",\"Genius\",\"Smart\"]\n",
    "for Vatsal in attributes:\n",
    "    print(\"Vatsal is\", Vatsal)\n",
    "\n",
    "\n"
   ]
  },
  {
   "cell_type": "code",
   "execution_count": 77,
   "metadata": {},
   "outputs": [
    {
     "name": "stdout",
     "output_type": "stream",
     "text": [
      "Buy Signal\n"
     ]
    }
   ],
   "source": [
    "import yfinance as yf\n",
    "import statistics\n",
    "\n",
    "def stock():\n",
    "    symbol = str(input(\"Enter the stock symbol: \"))\n",
    "    symbol_data = yf.Ticker(symbol)\n",
    "    symbol_history = symbol_data.history(period=\"1mo\")\n",
    "    close = symbol_history[\"Close\"]\n",
    "    mean = statistics.mean(close)\n",
    "    ten_day = mean / 10\n",
    "    twenty_day = mean / 20\n",
    "    if ten_day >= twenty_day:\n",
    "        print(\"Buy Signal\")\n",
    "    else:\n",
    "        print(\"Sell Signal\")\n",
    "\n",
    "stock()\n"
   ]
  },
  {
   "cell_type": "code",
   "execution_count": 85,
   "metadata": {},
   "outputs": [
    {
     "name": "stdout",
     "output_type": "stream",
     "text": [
      "Buy Signal\n"
     ]
    }
   ],
   "source": [
    "import yfinance as yf\n",
    "import statistics\n",
    "def stock():\n",
    "    symbol = str(input(\"Enter the stock symbol: \"))\n",
    "    symbol_data = yf.Ticker(symbol)\n",
    "    symbol_history = symbol_data.history(period=\"1mo\")\n",
    "    close = symbol_history[\"Close\"]\n",
    "    mean = statistics.mean(close)\n",
    "    ten_day = mean / 10\n",
    "    twenty_day = mean / 20\n",
    "    thirty_day = mean/30\n",
    "    if ten_day >= twenty_day >= thirty_day:\n",
    "        print(\"Buy Signal\")\n",
    "    elif twenty_day >= thirty_day:\n",
    "        print(\"Buy Signal\")\n",
    "    else:\n",
    "        print(\"Sell Signal\")\n",
    "\n",
    "stock()"
   ]
  },
  {
   "cell_type": "code",
   "execution_count": 89,
   "metadata": {},
   "outputs": [
    {
     "name": "stdout",
     "output_type": "stream",
     "text": [
      "[*********************100%%**********************]  1 of 1 completed\n",
      "Signal for ORCL: Buy Signal\n"
     ]
    }
   ],
   "source": [
    "import yfinance as yf\n",
    "\n",
    "def moving_average_signal(symbol):\n",
    "    # Download historical data\n",
    "    stock_data = yf.download(symbol, period=\"2y\")  # Adjust the period as needed\n",
    "\n",
    "    # Calculate short-term (50-day) and long-term (200-day) moving averages\n",
    "    stock_data['SMA50'] = stock_data['Close'].rolling(window=50).mean()\n",
    "    stock_data['SMA200'] = stock_data['Close'].rolling(window=200).mean()\n",
    "\n",
    "    # Determine the latest closing price and moving averages\n",
    "    latest_close = stock_data['Close'][-1]\n",
    "    latest_sma50 = stock_data['SMA50'][-1]\n",
    "    latest_sma200 = stock_data['SMA200'][-1]\n",
    "\n",
    "    # Generate buy or sell signal\n",
    "    if latest_sma50 > latest_sma200:\n",
    "        signal = \"Buy Signal\"\n",
    "    else:\n",
    "        signal = \"Sell Signal\"\n",
    "\n",
    "    return signal\n",
    "\n",
    "symbol = \"ORCL\"  # Sea Limited\n",
    "signal = moving_average_signal(symbol)\n",
    "\n",
    "print(f\"Signal for {symbol}: {signal}\")\n"
   ]
  },
  {
   "cell_type": "code",
   "execution_count": 2,
   "metadata": {},
   "outputs": [
    {
     "name": "stdout",
     "output_type": "stream",
     "text": [
      "24\n"
     ]
    }
   ],
   "source": [
    "def func(n):\n",
    "    factorial = 1\n",
    "    for i in range(factorial, n+1):\n",
    "        factorial *= i \n",
    "    return factorial\n",
    "print(func(4))"
   ]
  }
 ],
 "metadata": {
  "kernelspec": {
   "display_name": "Python 3",
   "language": "python",
   "name": "python3"
  },
  "language_info": {
   "codemirror_mode": {
    "name": "ipython",
    "version": 3
   },
   "file_extension": ".py",
   "mimetype": "text/x-python",
   "name": "python",
   "nbconvert_exporter": "python",
   "pygments_lexer": "ipython3",
   "version": "3.11.5"
  },
  "orig_nbformat": 4
 },
 "nbformat": 4,
 "nbformat_minor": 2
}
